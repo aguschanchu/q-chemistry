{
 "cells": [
  {
   "cell_type": "markdown",
   "metadata": {},
   "source": [
    "## Levatamos Fermionic"
   ]
  },
  {
   "cell_type": "code",
   "execution_count": 1,
   "metadata": {},
   "outputs": [
    {
     "name": "stdout",
     "output_type": "stream",
     "text": [
      "Requirement already satisfied: openfermion in /home/agus/anaconda3/lib/python3.11/site-packages (1.6.1)\n",
      "Requirement already satisfied: sparse in /home/agus/anaconda3/lib/python3.11/site-packages (0.15.4)\n",
      "Requirement already satisfied: ray in /home/agus/anaconda3/lib/python3.11/site-packages (2.37.0)\n",
      "Requirement already satisfied: cupy-cuda12x in /home/agus/anaconda3/lib/python3.11/site-packages (13.4.1)\n",
      "Requirement already satisfied: cloudpickle in /home/agus/anaconda3/lib/python3.11/site-packages (3.0.0)\n",
      "Requirement already satisfied: scikit-learn in /home/agus/anaconda3/lib/python3.11/site-packages (1.6.1)\n",
      "Requirement already satisfied: openfermionpyscf in /home/agus/anaconda3/lib/python3.11/site-packages (0.5)\n",
      "Requirement already satisfied: cirq-core~=1.0 in /home/agus/anaconda3/lib/python3.11/site-packages (from openfermion) (1.4.1)\n",
      "Requirement already satisfied: deprecation in /home/agus/anaconda3/lib/python3.11/site-packages (from openfermion) (2.1.0)\n",
      "Requirement already satisfied: h5py>=2.8 in /home/agus/anaconda3/lib/python3.11/site-packages (from openfermion) (3.12.1)\n",
      "Requirement already satisfied: networkx in /home/agus/anaconda3/lib/python3.11/site-packages (from openfermion) (3.4.2)\n",
      "Requirement already satisfied: numpy>=1.11.0 in /home/agus/anaconda3/lib/python3.11/site-packages (from openfermion) (1.26.4)\n",
      "Requirement already satisfied: pubchempy in /home/agus/anaconda3/lib/python3.11/site-packages (from openfermion) (1.0.4)\n",
      "Requirement already satisfied: requests>=2.18 in /home/agus/anaconda3/lib/python3.11/site-packages (from openfermion) (2.32.3)\n",
      "Requirement already satisfied: scipy>=1.1.0 in /home/agus/anaconda3/lib/python3.11/site-packages (from openfermion) (1.15.1)\n",
      "Requirement already satisfied: sympy in /home/agus/anaconda3/lib/python3.11/site-packages (from openfermion) (1.14.0)\n",
      "Requirement already satisfied: numba>=0.49 in /home/agus/anaconda3/lib/python3.11/site-packages (from sparse) (0.61.0)\n",
      "Requirement already satisfied: click>=7.0 in /home/agus/anaconda3/lib/python3.11/site-packages (from ray) (8.1.7)\n",
      "Requirement already satisfied: filelock in /home/agus/anaconda3/lib/python3.11/site-packages (from ray) (3.13.1)\n",
      "Requirement already satisfied: jsonschema in /home/agus/anaconda3/lib/python3.11/site-packages (from ray) (4.23.0)\n",
      "Requirement already satisfied: msgpack<2.0.0,>=1.0.0 in /home/agus/anaconda3/lib/python3.11/site-packages (from ray) (1.0.3)\n",
      "Requirement already satisfied: packaging in /home/agus/anaconda3/lib/python3.11/site-packages (from ray) (24.2)\n",
      "Requirement already satisfied: protobuf!=3.19.5,>=3.15.3 in /home/agus/anaconda3/lib/python3.11/site-packages (from ray) (4.25.3)\n",
      "Requirement already satisfied: pyyaml in /home/agus/anaconda3/lib/python3.11/site-packages (from ray) (6.0.2)\n",
      "Requirement already satisfied: aiosignal in /home/agus/anaconda3/lib/python3.11/site-packages (from ray) (1.2.0)\n",
      "Requirement already satisfied: frozenlist in /home/agus/anaconda3/lib/python3.11/site-packages (from ray) (1.5.0)\n",
      "Requirement already satisfied: fastrlock>=0.5 in /home/agus/anaconda3/lib/python3.11/site-packages (from cupy-cuda12x) (0.8.3)\n",
      "Requirement already satisfied: joblib>=1.2.0 in /home/agus/anaconda3/lib/python3.11/site-packages (from scikit-learn) (1.4.2)\n",
      "Requirement already satisfied: threadpoolctl>=3.1.0 in /home/agus/anaconda3/lib/python3.11/site-packages (from scikit-learn) (3.5.0)\n",
      "Requirement already satisfied: pyscf in /home/agus/anaconda3/lib/python3.11/site-packages (from openfermionpyscf) (2.9.0)\n",
      "Requirement already satisfied: pytest in /home/agus/anaconda3/lib/python3.11/site-packages (from openfermionpyscf) (8.3.4)\n",
      "Requirement already satisfied: attrs>=21.3.0 in /home/agus/anaconda3/lib/python3.11/site-packages (from cirq-core~=1.0->openfermion) (24.3.0)\n",
      "Requirement already satisfied: duet>=0.2.8 in /home/agus/anaconda3/lib/python3.11/site-packages (from cirq-core~=1.0->openfermion) (0.2.9)\n",
      "Requirement already satisfied: matplotlib~=3.0 in /home/agus/anaconda3/lib/python3.11/site-packages (from cirq-core~=1.0->openfermion) (3.10.0)\n",
      "Requirement already satisfied: pandas in /home/agus/anaconda3/lib/python3.11/site-packages (from cirq-core~=1.0->openfermion) (2.2.3)\n",
      "Requirement already satisfied: sortedcontainers~=2.0 in /home/agus/anaconda3/lib/python3.11/site-packages (from cirq-core~=1.0->openfermion) (2.4.0)\n",
      "Requirement already satisfied: typing-extensions>=4.2 in /home/agus/anaconda3/lib/python3.11/site-packages (from cirq-core~=1.0->openfermion) (4.12.2)\n",
      "Requirement already satisfied: tqdm in /home/agus/anaconda3/lib/python3.11/site-packages (from cirq-core~=1.0->openfermion) (4.67.1)\n",
      "Requirement already satisfied: llvmlite<0.45,>=0.44.0dev0 in /home/agus/anaconda3/lib/python3.11/site-packages (from numba>=0.49->sparse) (0.44.0)\n",
      "Requirement already satisfied: charset-normalizer<4,>=2 in /home/agus/anaconda3/lib/python3.11/site-packages (from requests>=2.18->openfermion) (3.3.2)\n",
      "Requirement already satisfied: idna<4,>=2.5 in /home/agus/anaconda3/lib/python3.11/site-packages (from requests>=2.18->openfermion) (3.10)\n",
      "Requirement already satisfied: urllib3<3,>=1.21.1 in /home/agus/anaconda3/lib/python3.11/site-packages (from requests>=2.18->openfermion) (2.3.0)\n",
      "Requirement already satisfied: certifi>=2017.4.17 in /home/agus/anaconda3/lib/python3.11/site-packages (from requests>=2.18->openfermion) (2025.1.31)\n",
      "Requirement already satisfied: jsonschema-specifications>=2023.03.6 in /home/agus/anaconda3/lib/python3.11/site-packages (from jsonschema->ray) (2023.7.1)\n",
      "Requirement already satisfied: referencing>=0.28.4 in /home/agus/anaconda3/lib/python3.11/site-packages (from jsonschema->ray) (0.30.2)\n",
      "Requirement already satisfied: rpds-py>=0.7.1 in /home/agus/anaconda3/lib/python3.11/site-packages (from jsonschema->ray) (0.22.3)\n",
      "Requirement already satisfied: setuptools in /home/agus/anaconda3/lib/python3.11/site-packages (from pyscf->openfermionpyscf) (68.0.0)\n",
      "Requirement already satisfied: iniconfig in /home/agus/anaconda3/lib/python3.11/site-packages (from pytest->openfermionpyscf) (1.1.1)\n",
      "Requirement already satisfied: pluggy<2,>=1.5 in /home/agus/anaconda3/lib/python3.11/site-packages (from pytest->openfermionpyscf) (1.5.0)\n",
      "Requirement already satisfied: mpmath<1.4,>=1.1.0 in /home/agus/anaconda3/lib/python3.11/site-packages (from sympy->openfermion) (1.3.0)\n",
      "Requirement already satisfied: contourpy>=1.0.1 in /home/agus/anaconda3/lib/python3.11/site-packages (from matplotlib~=3.0->cirq-core~=1.0->openfermion) (1.3.1)\n",
      "Requirement already satisfied: cycler>=0.10 in /home/agus/anaconda3/lib/python3.11/site-packages (from matplotlib~=3.0->cirq-core~=1.0->openfermion) (0.11.0)\n",
      "Requirement already satisfied: fonttools>=4.22.0 in /home/agus/anaconda3/lib/python3.11/site-packages (from matplotlib~=3.0->cirq-core~=1.0->openfermion) (4.55.3)\n",
      "Requirement already satisfied: kiwisolver>=1.3.1 in /home/agus/anaconda3/lib/python3.11/site-packages (from matplotlib~=3.0->cirq-core~=1.0->openfermion) (1.4.8)\n",
      "Requirement already satisfied: pillow>=8 in /home/agus/anaconda3/lib/python3.11/site-packages (from matplotlib~=3.0->cirq-core~=1.0->openfermion) (11.1.0)\n",
      "Requirement already satisfied: pyparsing>=2.3.1 in /home/agus/anaconda3/lib/python3.11/site-packages (from matplotlib~=3.0->cirq-core~=1.0->openfermion) (3.2.0)\n",
      "Requirement already satisfied: python-dateutil>=2.7 in /home/agus/anaconda3/lib/python3.11/site-packages (from matplotlib~=3.0->cirq-core~=1.0->openfermion) (2.9.0.post0)\n",
      "Requirement already satisfied: pytz>=2020.1 in /home/agus/anaconda3/lib/python3.11/site-packages (from pandas->cirq-core~=1.0->openfermion) (2024.1)\n",
      "Requirement already satisfied: tzdata>=2022.7 in /home/agus/anaconda3/lib/python3.11/site-packages (from pandas->cirq-core~=1.0->openfermion) (2023.3)\n",
      "Requirement already satisfied: six>=1.5 in /home/agus/anaconda3/lib/python3.11/site-packages (from python-dateutil>=2.7->matplotlib~=3.0->cirq-core~=1.0->openfermion) (1.16.0)\n"
     ]
    }
   ],
   "source": [
    "!pip install openfermion sparse ray cupy-cuda12x cloudpickle scikit-learn openfermionpyscf"
   ]
  },
  {
   "cell_type": "markdown",
   "metadata": {},
   "source": [
    "Debido al número de niveles (innecesarios) en el core, el objetivo es calcular la base natural (a partir de rho1), y proyectar el fundamental sobre el subespacio generado por los estados no ocupados. Allí, buscamos la descomposición, y luego volvemos a la base original"
   ]
  },
  {
   "cell_type": "code",
   "execution_count": 2,
   "metadata": {},
   "outputs": [],
   "source": [
    "from fermionic_mbody import FixedBasis, rho_m_gen, rho_m\n",
    "\n",
    "import numpy as np\n",
    "import openfermion as of\n",
    "from tqdm import tqdm\n",
    "from itertools import combinations\n",
    "from openfermion.utils import commutator, count_qubits, hermitian_conjugated\n",
    "import functools\n",
    "import concurrent.futures\n",
    "from numba import njit\n",
    "import scipy\n",
    "import sparse\n",
    "import itertools\n",
    "import linecache\n",
    "from multiprocessing import Pool, cpu_count\n",
    "import sympy"
   ]
  },
  {
   "cell_type": "markdown",
   "metadata": {},
   "source": [
    "### Determinación de estado"
   ]
  },
  {
   "cell_type": "markdown",
   "metadata": {},
   "source": [
    "#### Calculo de H"
   ]
  },
  {
   "cell_type": "code",
   "execution_count": 4,
   "metadata": {},
   "outputs": [],
   "source": [
    "\"\"\"\n",
    "Un método alternativo para el caso H2O para calcular los hamiltonianos en función de (d), utilizando pyscf\n",
    "\"\"\"\n",
    "\n",
    "from openfermion.chem import MolecularData\n",
    "import matplotlib.pyplot as plt\n",
    "import openfermionpyscf\n",
    "\n",
    "def generate_h2o_hamiltonian(r):\n",
    "    theta = np.deg2rad(104.5)\n",
    "    x, z = r * np.sin(theta/2), r * np.cos(theta/2)\n",
    "    geometry = [\n",
    "        ('O', (0.0, 0.0, 0.0)),\n",
    "        ('H', ( x, 0.0, z)),\n",
    "        ('H', (-x, 0.0, z))\n",
    "    ]\n",
    "    \n",
    "    molecule_s = MolecularData(\n",
    "        geometry=geometry,\n",
    "        basis='sto-3g',\n",
    "        multiplicity=1,\n",
    "        charge=0\n",
    "    )\n",
    "    \n",
    "    molecule = openfermionpyscf.run_pyscf(\n",
    "        molecule_s,\n",
    "        run_scf=1,\n",
    "        run_mp2=1,\n",
    "        run_cisd=1,\n",
    "        run_ccsd=1,\n",
    "        run_fci=1\n",
    "    )\n",
    "\n",
    "    molecular_hamiltonian = molecule.get_molecular_hamiltonian()\n",
    "    \n",
    "    qubit_hamiltonian = of.jordan_wigner(molecular_hamiltonian)\n",
    "    \n",
    "    sparse_hamiltonian = of.get_sparse_operator(qubit_hamiltonian)\n",
    "    \n",
    "    return sparse_hamiltonian, molecule, molecule_s\n"
   ]
  },
  {
   "cell_type": "markdown",
   "metadata": {},
   "source": [
    "#### Inicialización de bases y arrays básicos"
   ]
  },
  {
   "cell_type": "code",
   "execution_count": 54,
   "metadata": {},
   "outputs": [],
   "source": [
    "# Base en el canónico\n",
    "basis_c = FixedBasis(d=14, num=10) \n",
    "\n",
    "# Filtramos a los estados que tengan igual número de electrones UP / DOWN\n",
    "idx_equal = [\n",
    "    idx for idx, ket in enumerate(basis_c.base)\n",
    "    if sum(p % 2 == 0 for p, _ in next(iter(ket.terms.keys()))) == 5\n",
    "]\n",
    "basis_r = FixedBasis.from_subset(basis_c, idx_equal)\n",
    "\n",
    "# Base de 5 partículas (solo UP)\n",
    "basis_up = FixedBasis(d=7, num=5) "
   ]
  },
  {
   "cell_type": "code",
   "execution_count": 91,
   "metadata": {},
   "outputs": [],
   "source": [
    "# Dado un operador, devulve los niveles UP o DOWN que tiene ocupados\n",
    "def split_indices(op, basis = basis_up):\n",
    "    # occupation bit-masks for the 7 up and 7 down spin-orbitals\n",
    "    mask_up, mask_dn = 0, 0\n",
    "    for p, _ in next(iter(op.terms.keys())):       # p = 0…13\n",
    "        if p % 2 == 0:                             # even → ↑\n",
    "            mask_up |= 1 << (p // 2)               # shift into 0…6\n",
    "        else:                                      # odd  → ↓\n",
    "            mask_dn |= 1 << (p // 2)\n",
    "\n",
    "    i = int(np.where(basis.num_ele == mask_up)[0][0])\n",
    "    j = int(np.where(basis.num_ele == mask_dn)[0][0])\n",
    "    return i, j\n",
    "\n",
    "# Devuelve C_{ij} tal que  |GS⟩ = Σ_{i,j} C_ij |UP_i⟩⊗|DOWN_j⟩.\"\"\"\n",
    "def vect_to_tensor_array(gs_vec, basis_r, basis_up):\n",
    "    C = np.zeros((basis_up.size, basis_up.size), dtype=gs_vec.dtype)\n",
    "\n",
    "    for k, amp in enumerate(gs_vec):\n",
    "        if np.abs(amp) == 0:\n",
    "            continue\n",
    "        i, j = split_indices(basis_r.base[k], basis_up)\n",
    "        C[i, j] = amp\n",
    "\n",
    "    return C\n",
    "\n",
    "\"\"\"\n",
    "Dada matriz densidad de 1 cuerpo, calcula la base natural de 1 cuerpo.\n",
    "Devuelve la matriz densidad en la nueva base\n",
    "\"\"\"\n",
    "def natural_basis_rotation(basis, rho_1 = None, U = None):\n",
    "    if U is None:\n",
    "        evals, evects = scipy.linalg.eigh(rho_1.todense())\n",
    "        U = evects[::-1].T \n",
    "\n",
    "    V = np.zeros((basis.size, basis.size))\n",
    "    \n",
    "    act_lvls = lambda tt: [tpl[0] for tpl in next(iter(tt.terms.keys()))]\n",
    "    i_levels = np.array([act_lvls(basis.base[i]) for i in range(basis.size)])\n",
    "    j_levels = np.array([act_lvls(basis.base[j]) for j in range(basis.size)])\n",
    "    \n",
    "    row_indices = i_levels[:, np.newaxis, :, np.newaxis]\n",
    "    col_indices = j_levels[np.newaxis, :, np.newaxis, :]\n",
    "\n",
    "    submatrices = U[row_indices, col_indices]\n",
    "    V = np.linalg.det(submatrices)\n",
    "    \n",
    "    return V\n"
   ]
  },
  {
   "cell_type": "markdown",
   "metadata": {},
   "source": [
    "## Opti"
   ]
  },
  {
   "cell_type": "markdown",
   "metadata": {},
   "source": [
    "Comenzamos obteniendo el fundamental"
   ]
  },
  {
   "cell_type": "code",
   "execution_count": 92,
   "metadata": {},
   "outputs": [
    {
     "name": "stderr",
     "output_type": "stream",
     "text": [
      "ρ_1: 100%|██████████| 8/8 [00:00<00:00, 37.91it/s]\n"
     ]
    }
   ],
   "source": [
    "# Obtenemos el Hamiltoniano en el límite disociado (escrito en el GC)\n",
    "h_gc, _, _ = generate_h2o_hamiltonian(3.0)\n",
    "h_c = h_gc[np.ix_(basis_r.num_ele, basis_r.num_ele)].real.todense()\n",
    "e, v = scipy.sparse.linalg.eigsh(h_c, k=1, which='SA', tol=1e-8)\n",
    "fund = v[:, 0]\n",
    "\n",
    "# Construimos la base reduciuda y la matriz C\n",
    "C = vect_to_tensor_array(fund, basis_r, basis_up)\n",
    "\n",
    "# Arrays\n",
    "rho_1_arrays = rho_m_gen(basis_up, 1)\n",
    "\n",
    "# Arrancamos rotando a la base natural\n",
    "rho_up = C @ np.transpose(C)\n",
    "rho_down = np.transpose(C) @ C\n",
    "# Calculo matrices densidad 1 cuerpo\n",
    "rho_1_up = rho_m(rho_up, rho_1_arrays)\n",
    "rho_1_down = rho_m(rho_down, rho_1_arrays)\n",
    "# Matrices de cambio de base (UP DOWN) y transformacion rho -> rhon\n",
    "V_up = natural_basis_rotation(basis_up, rho_1 = rho_1_up)\n",
    "rhon_up = V_up @ rho_up @ V_up.T\n",
    "V_down = natural_basis_rotation(basis_up, rho_1 = rho_1_down)\n",
    "rhon_down = V_down @ rho_down @ V_down.T\n",
    "Cn = V_up @ C @ V_down.T"
   ]
  },
  {
   "cell_type": "code",
   "execution_count": 95,
   "metadata": {},
   "outputs": [],
   "source": [
    "from scipy.cluster.hierarchy import fcluster, linkage\n",
    "from scipy.cluster.vq import kmeans, vq\n",
    "from sklearn.mixture import GaussianMixture\n",
    "from scipy.linalg import expm, logm\n",
    "\n",
    "\"\"\"\n",
    "Dado un estado C, busca rotaciones de un cuerpo que minimizen el número de términos presentes en el estado. Para ello\n",
    "- Dado un vector seed (generador de la matriz antisimétrica), obtenemos una transformación U via exponenciación\n",
    "- Calculamos el cambio de base, y la representación de rho en esa nueva base\n",
    "- Calculamos el costo de la representacion\n",
    "\"\"\"\n",
    "# Comenzaremos con la optimización con la base natural\n",
    "def rho_to_seed(rho):\n",
    "    evals, evects = scipy.linalg.eigh(rho.todense())\n",
    "    U = evects[::-1].T \n",
    "    return encode(U)\n",
    "\n",
    "def encode(U):\n",
    "    A = logm(U) \n",
    "    A = 0.5 * (A - A.T) \n",
    "    triu_indices = np.triu_indices(U.shape[0], k=1)\n",
    "    params = A[triu_indices].real  \n",
    "    return params\n",
    "\n",
    "def decode(params):\n",
    "    n = int((1 + np.sqrt(1 + 8 * len(params))) // 2) \n",
    "    A = np.zeros((n, n))\n",
    "    triu_indices = np.triu_indices(n, k=1)\n",
    "    A[triu_indices] = params\n",
    "    A -= A.T  \n",
    "    U = expm(A) \n",
    "    return U\n",
    "\n",
    "# Funciones de costo\n",
    "\n",
    "def hoyer_sparsity(c):\n",
    "    n = c.size\n",
    "    L1 = np.sum(np.abs(c))\n",
    "    L2 = np.sqrt(np.sum(c**2))\n",
    "    return (np.sqrt(n) - L1 / L2) / (np.sqrt(n) - 1)\n",
    "\n",
    "\n",
    "def l0_combined(C, threshold=1e-3, alpha=0.1, beta=1.0, temperature=0.01):\n",
    "    abs_C = np.abs(C)\n",
    "    L1 = np.sum(abs_C)\n",
    "    sigmoid_mask = 1 / (1 + np.exp(-(abs_C - threshold) / temperature))\n",
    "    smoothed_L0 = np.sum(sigmoid_mask)\n",
    "    \n",
    "    return alpha * L1 + beta * smoothed_L0\n",
    "\n",
    "def loss(C):\n",
    "    \"\"\"\n",
    "    Distintas normas utilizadas para optimizar. Estas verifican \n",
    "    -OK1 => que loss(C) > loss(Cn)\n",
    "    -OK2 => nonzero(Cn) > nonzero(Cop)\n",
    "    \"\"\"\n",
    "    # Hoyer (OK2)\n",
    "    #return 1 - hoyer_sparsity(C.flatten())\n",
    "    # Norma 1 (OK1)\n",
    "    #return np.linalg.norm(C, 1)\n",
    "    # Norma infinito (OK1)\n",
    "    # return np.max(np.sum(abs(C), axis=1))\n",
    "    # Combined L0 + penalty loss (OK1) (OK2)\n",
    "    return l0_combined(C)\n",
    "\n",
    "def opti_fun(seed, C = C, basis = basis_up):\n",
    "    # Decodificamos la semilla\n",
    "    params_up, params_down = seed[:len(seed)//2], seed[len(seed)//2:] \n",
    "    # Decodificamos \n",
    "    U_up, U_down = decode(params_up), decode(params_down)\n",
    "    V_up, V_down = natural_basis_rotation(basis, U=U_up), natural_basis_rotation(basis, U=U_down)\n",
    "    # Obtenemos la matriz de coeficientes rotada\n",
    "    Ce = V_up @ C @ V_down.T\n",
    "    return loss(Ce)\n",
    "\n",
    "# Calculo de semilla\n",
    "seed_up = rho_to_seed(rho_1_up)\n",
    "seed_down = rho_to_seed(rho_1_down)\n",
    "init_seed = np.concatenate([seed_up, seed_down])\n",
    "\n",
    "\n",
    "# Optimizamos\n",
    "opt_m = scipy.optimize.basinhopping(\n",
    "    opti_fun,\n",
    "    init_seed,\n",
    "    niter=10,\n",
    "    T=1.0,\n",
    "    stepsize=0.5,\n",
    "    minimizer_kwargs={\n",
    "        \"method\":\"L-BFGS-B\",\n",
    "        \"options\":{\"disp\": True}\n",
    "    },\n",
    ")\n",
    "\n",
    "# Rotamos el estado\n",
    "seed = opt_m.x\n",
    "params_up, params_down = seed[:len(seed)//2], seed[len(seed)//2:] \n",
    "U_up, U_down = decode(params_up), decode(params_down)\n",
    "Vop_up, Vop_down = natural_basis_rotation(basis_up, U=U_up), natural_basis_rotation(basis_up, U=U_down)\n",
    "Cop = Vop_up @ C @ Vop_down.T"
   ]
  },
  {
   "cell_type": "code",
   "execution_count": 96,
   "metadata": {},
   "outputs": [
    {
     "data": {
      "text/plain": [
       "(215.9044851292861, 215.90448512928606, 215.85386062174675)"
      ]
     },
     "execution_count": 96,
     "metadata": {},
     "output_type": "execute_result"
    }
   ],
   "source": [
    "opti_fun(init_seed), loss(Cn), loss(Cop)"
   ]
  },
  {
   "cell_type": "code",
   "execution_count": 97,
   "metadata": {},
   "outputs": [
    {
     "data": {
      "text/plain": [
       "(14, 10, 10)"
      ]
     },
     "execution_count": 97,
     "metadata": {},
     "output_type": "execute_result"
    }
   ],
   "source": [
    "ooo = 2\n",
    "len(np.round(C,ooo).nonzero()[0]), len(np.round(Cn,ooo).nonzero()[0]), len(np.round(Cop,ooo).nonzero()[0])"
   ]
  },
  {
   "cell_type": "code",
   "execution_count": 36,
   "metadata": {},
   "outputs": [
    {
     "data": {
      "text/plain": [
       "(0.6465554052231335, 1.2563117316685313, 0.5255339589146002)"
      ]
     },
     "execution_count": 36,
     "metadata": {},
     "output_type": "execute_result"
    }
   ],
   "source": [
    "loss(C), loss(Cn), loss(Cop)"
   ]
  },
  {
   "cell_type": "code",
   "execution_count": 28,
   "metadata": {},
   "outputs": [
    {
     "data": {
      "text/plain": [
       "array([1.00000004, 0.99999739, 0.99999489, 0.4806496 , 0.51935319,\n",
       "       0.47487306, 0.52513204])"
      ]
     },
     "execution_count": 28,
     "metadata": {},
     "output_type": "execute_result"
    }
   ],
   "source": [
    "rhon_up = Cn @ np.transpose(Cn)\n",
    "np.linalg.eigvals(rho_m(rhon_up, rho_1_arrays).todense())"
   ]
  },
  {
   "cell_type": "markdown",
   "metadata": {},
   "source": [
    "## Calculo de matrices densidad"
   ]
  },
  {
   "cell_type": "markdown",
   "metadata": {},
   "source": [
    "rho2 (bloques)"
   ]
  },
  {
   "cell_type": "code",
   "execution_count": null,
   "metadata": {},
   "outputs": [],
   "source": [
    "# Calculo de bloques UPUP UPDOWN\n",
    "\n",
    "t_basis = FixedBasis(basis_total.d, 2)\n",
    "upup_terms = []\n",
    "updown_terms = []\n",
    "for idx, t in enumerate(t_basis.base):\n",
    "    act_lvls = lambda tt: np.array([tpl[0] for tpl in next(iter(tt.terms.keys()))])\n",
    "    if np.all(act_lvls(t) < 7):\n",
    "        upup_terms.append(idx)\n",
    "    if act_lvls(t)[0] < 7 and act_lvls(t)[1] > 6:\n",
    "        updown_terms.append(idx)\n",
    "\n",
    "def extract_sparse_block(arr, row_terms, col_terms):\n",
    "    \"\"\"Extract subarray from sparse COO using term indices for first two dimensions\"\"\"\n",
    "    # Create coordinate masks\n",
    "    row_mask = np.isin(arr.coords[0], row_terms)\n",
    "    col_mask = np.isin(arr.coords[1], col_terms)\n",
    "    combined_mask = row_mask & col_mask\n",
    "    \n",
    "    # Get filtered coordinates and data\n",
    "    filtered_coords = arr.coords[:, combined_mask]\n",
    "    filtered_data = arr.data[combined_mask]\n",
    "    \n",
    "    # Remap indices to new dimensions\n",
    "    row_map = {v:i for i,v in enumerate(row_terms)}\n",
    "    col_map = {v:i for i,v in enumerate(col_terms)}\n",
    "    \n",
    "    # Transform coordinates\n",
    "    new_coords = np.stack([\n",
    "        np.array([row_map[c] for c in filtered_coords[0]]),\n",
    "        np.array([col_map[c] for c in filtered_coords[1]]),\n",
    "        filtered_coords[2],\n",
    "        filtered_coords[3]\n",
    "    ])\n",
    "    \n",
    "    # Create new sparse array\n",
    "    return sparse.COO(\n",
    "        new_coords,\n",
    "        filtered_data,\n",
    "        shape=(len(row_terms), len(col_terms), arr.shape[2], arr.shape[3]))\n",
    "    \n",
    "rho_2_upup_arrays = extract_sparse_block(rho_2_total_arrays, upup_terms, upup_terms)\n",
    "rho_2_updown_arrays = extract_sparse_block(rho_2_total_arrays, updown_terms, updown_terms)\n"
   ]
  },
  {
   "cell_type": "code",
   "execution_count": 7,
   "metadata": {},
   "outputs": [
    {
     "name": "stderr",
     "output_type": "stream",
     "text": [
      "100%|██████████| 12/12 [02:30<00:00, 12.54s/it]\n",
      "100%|██████████| 12/12 [02:28<00:00, 12.35s/it]\n"
     ]
    }
   ],
   "source": [
    "def rho_2_ext_process_chunk(args):\n",
    "    chunk, basis, d, fact = args\n",
    "    indices = []\n",
    "    values = []\n",
    "    \n",
    "    for i, j, k, l in chunk:\n",
    "        i, j, k, l = int(i), int(j), int(k), int(l)\n",
    "        op1 = of.FermionOperator((k, 1)) * of.FermionOperator((l + fact, 1))\n",
    "        op2 = of.FermionOperator((j + fact, 0)) * of.FermionOperator((i, 0))\n",
    "\n",
    "        op = of.transforms.normal_ordered(op1 * op2)\n",
    "        mat = np.real(of.get_sparse_operator(op, n_qubits=2 * d))[np.ix_(basis.num_ele, basis.num_ele)]\n",
    "        \n",
    "        # Extraemos la información\n",
    "        n_r, n_c = mat.nonzero()\n",
    "        data = mat.data\n",
    "        for r, c, v in zip(n_r, n_c, data):\n",
    "            indices.append([i * d + j, k * d + l, r, c])  # Indexamos la mat de d^2 x d^2\n",
    "            values.append(v)\n",
    "\n",
    "    return indices, values\n",
    "\n",
    "\n",
    "def rho_2_gen_ext(basis, upup=True, num_workers=None):\n",
    "    if num_workers is None:\n",
    "        num_workers = cpu_count()  # Use all available CPUs by default\n",
    "\n",
    "    d = basis.d // 2\n",
    "    shape = (d**2, d**2, basis.size, basis.size)\n",
    "    fact = 0 if upup else d\n",
    "\n",
    "    # Split the work into chunks\n",
    "    it_set = list(itertools.product(range(d), repeat=4))\n",
    "    chunks = np.array_split(it_set, num_workers)\n",
    "\n",
    "    # Prepare arguments for each worker\n",
    "    worker_args = [(chunk, basis, d, fact) for chunk in chunks]\n",
    "\n",
    "    # Use a multiprocessing Pool to parallelize the computation\n",
    "    indices = []\n",
    "    values = []\n",
    "    with Pool(processes=num_workers) as pool:\n",
    "        results = list(tqdm(pool.imap(rho_2_ext_process_chunk, worker_args), total=num_workers))\n",
    "\n",
    "    # Aggregate results from all workers\n",
    "    for indices_chunk, values_chunk in results:\n",
    "        indices.extend(indices_chunk)\n",
    "        values.extend(values_chunk)\n",
    "\n",
    "    # Construct the sparse array\n",
    "    indices_t = np.array(indices).T\n",
    "    s_t = sparse.COO(indices_t, values, shape=shape)\n",
    "    return s_t\n",
    "\n",
    "\n",
    "rho_2_extended_up = rho_2_gen_ext(basis_total, upup = True)\n",
    "rho_2_extended_updown  = rho_2_gen_ext(basis_total, upup = False)"
   ]
  },
  {
   "cell_type": "code",
   "execution_count": 8,
   "metadata": {},
   "outputs": [],
   "source": [
    "# Operaciones sobre matrices\n",
    "def partial_traspose(rho, perm, upup = True):\n",
    "    d = basis.d\n",
    "    rho_p = np.zeros((d**2, d**2))\n",
    "    f = 0 if upup else d\n",
    "    for m in range(d**2):\n",
    "        for n in range(d**2):\n",
    "            # Escrimos los índices i j k l en términos de m n\n",
    "            i, j = m//d, m % d\n",
    "            k, l = n//d, n % d\n",
    "            indices = (i, j, k, l)\n",
    "            ip, jp, kp, lp = tuple(indices[p] for p in perm)\n",
    "            rho_p[m,n] = rho[ip*d + jp, kp*d + lp]\n",
    "    return rho_p"
   ]
  },
  {
   "cell_type": "markdown",
   "metadata": {},
   "source": [
    "##### Ploteo"
   ]
  },
  {
   "cell_type": "code",
   "execution_count": 121,
   "metadata": {},
   "outputs": [
    {
     "name": "stderr",
     "output_type": "stream",
     "text": [
      "100%|██████████| 131/131 [00:01<00:00, 127.36it/s]\n"
     ]
    },
    {
     "data": {
      "image/png": "[encoded data removed]",
      "text/plain": [
       "<Figure size 640x480 with 1 Axes>"
      ]
     },
     "metadata": {},
     "output_type": "display_data"
    },
    {
     "name": "stderr",
     "output_type": "stream",
     "text": [
      " 14%|█▎        | 18/131 [00:00<00:04, 27.87it/s]/tmp/ipykernel_36865/3184034531.py:9: ComplexWarning: Casting complex values to real discards the imaginary part\n",
      "  res[idx] = np.sort(np.linalg.eigvals(rho.todense()))\n",
      "100%|██████████| 131/131 [00:04<00:00, 29.83it/s]\n"
     ]
    },
    {
     "data": {
      "image/png": "[encoded data removed]",
      "text/plain": [
       "<Figure size 640x480 with 1 Axes>"
      ]
     },
     "metadata": {},
     "output_type": "display_data"
    },
    {
     "name": "stderr",
     "output_type": "stream",
     "text": [
      "100%|██████████| 131/131 [00:14<00:00,  8.99it/s]\n"
     ]
    },
    {
     "data": {
      "image/png": "[encoded data removed]",
      "text/plain": [
       "<Figure size 640x480 with 1 Axes>"
      ]
     },
     "metadata": {},
     "output_type": "display_data"
    },
    {
     "name": "stderr",
     "output_type": "stream",
     "text": [
      "  0%|          | 0/131 [00:00<?, ?it/s]/tmp/ipykernel_36865/3184034531.py:36: ComplexWarning: Casting complex values to real discards the imaginary part\n",
      "  res[idx] = np.sum([x for x in np.linalg.eigvals(rho) if x<0])\n",
      "100%|██████████| 131/131 [00:22<00:00,  5.88it/s]\n"
     ]
    },
    {
     "data": {
      "image/png": "[encoded data removed]",
      "text/plain": [
       "<Figure size 640x480 with 1 Axes>"
      ]
     },
     "metadata": {},
     "output_type": "display_data"
    }
   ],
   "source": [
    "import matplotlib.pyplot as plt\n",
    "\n",
    "def plot_rho(vects, rho_arrays, label = r'$\\rho^{(m)}$ eig'):\n",
    "    ds = list(vects.keys())\n",
    "    res = np.zeros(shape=(len(ds),rho_arrays.shape[0]))\n",
    "    for idx, d in tqdm(enumerate(ds), total=len(ds)):\n",
    "        vect = vects[d]\n",
    "        rho = rho_m(vect, rho_arrays)\n",
    "        res[idx] = np.sort(np.linalg.eigvals(rho.todense()))\n",
    "\n",
    "    plt.plot(ds, res)\n",
    "    plt.xlabel(r'd', fontsize=16)\n",
    "    plt.ylabel(label, fontsize=16)\n",
    "    plt.show()\n",
    "    return res\n",
    "\n",
    "def m_entropy(vects, rho_arrays):\n",
    "    ds = list(vects.keys())\n",
    "    res = np.zeros(shape=(len(ds)))\n",
    "    for idx, d in tqdm(enumerate(ds), total=len(ds)):\n",
    "        vect = vects[d]\n",
    "        rho = rho_m(vect, rho_arrays)\n",
    "        eigvals = np.sort(np.linalg.eigvals(rho.todense()))\n",
    "        res[idx] = -np.sum([x * np.log2(x) for x in eigvals])\n",
    "    return res / np.trace(rho.todense())\n",
    "\n",
    "def plot_neg(vects, rho_arrays, label = r'$\\rho^{(m)}$ eig', second = False):\n",
    "    ds = list(vects.keys())\n",
    "    res = np.zeros(shape=(len(ds)))\n",
    "    for idx, d in tqdm(enumerate(ds), total=len(ds)):\n",
    "        vect = vects[d]\n",
    "        rho = rho_m(vect, rho_arrays)\n",
    "        second_term = partial_traspose(rho, [0, 2, 3, 1]) if second else 0\n",
    "        rho = partial_traspose(rho, [0, 3, 2, 1]) - second_term\n",
    "        #print(np.sort(np.linalg.eigvals(rho)))\n",
    "        res[idx] = np.sum([x for x in np.linalg.eigvals(rho) if x<0])\n",
    "\n",
    "    plt.plot(ds, res)\n",
    "    plt.xlabel(r'd', fontsize=16)\n",
    "    plt.ylabel(label, fontsize=16)\n",
    "    plt.show()\n",
    "    return res\n",
    "\n",
    "#plot_rho(vects, rho_1_total_arrays, label = r'$\\rho^{(1)}$ eig')\n",
    "#plot_rho(vects, rho_2_total_arrays, label = r'$\\rho^{(2)}$ eig')\n",
    "plot_rho(vects, rho_2_upup_arrays, label = r'$\\rho^{(2)}_{upup}$ eig')\n",
    "plot_rho(vects, rho_2_updown_arrays, label = r'$\\rho^{(2)}_{updown}$ eig')\n",
    "plot_neg(vects, rho_2_extended_updown, label = r'Neg UPDOWN')\n",
    "plot_neg(vects, rho_2_extended_up, label = r'Neg UPUP', second = True)\n",
    "\n",
    "ds = list(vects.keys())\n",
    "#plt.plot(ds, m_entropy(vects, rho_1_total_arrays),label='Total (1)')\n",
    "#plt.plot(ds, m_entropy(vects, rho_2_total_arrays),label='Total (2)')\n",
    "#plt.plot(ds, m_entropy(vects, rho_2_upup_arrays), label='UPUP')\n",
    "#plt.plot(ds, m_entropy(vects, rho_2_updown_arrays), label='UPDOWN')\n",
    "#plt.legend()\n",
    "#plt.show()\n"
   ]
  },
  {
   "cell_type": "code",
   "execution_count": 122,
   "metadata": {},
   "outputs": [
    {
     "data": {
      "text/plain": [
       "array([3.35816414e-01, 3.32617106e-01, 8.42477074e-02, 8.36604703e-02,\n",
       "       8.18321762e-02, 8.18187409e-02, 1.58602113e-06, 1.41411075e-06,\n",
       "       9.55689442e-07, 8.83852767e-07, 8.20073112e-07, 7.78341846e-07,\n",
       "       5.36293600e-07, 4.51065028e-07, 9.08681275e-11, 8.16442864e-11,\n",
       "       5.48197463e-11, 4.73083233e-11, 6.21741154e-12, 1.11151399e-15,\n",
       "       4.70564364e-16])"
      ]
     },
     "execution_count": 122,
     "metadata": {},
     "output_type": "execute_result"
    }
   ],
   "source": [
    "_, v, _ = np.linalg.svd(C)\n",
    "v**2"
   ]
  },
  {
   "cell_type": "markdown",
   "metadata": {},
   "source": [
    "## Análisis H"
   ]
  },
  {
   "cell_type": "code",
   "execution_count": 9,
   "metadata": {},
   "outputs": [],
   "source": [
    "# Generamos el H para d=4\n",
    "H_sparse, molecule, molecule_s = generate_h2o_hamiltonian(4)\n",
    "# Restringimos a la base canónica\n",
    "H_sparse = H_sparse[np.ix_(basis_c.num_ele, basis_c.num_ele)].real\n",
    "# También levantamos el H que nos dió Javier, cuidado con la base\n",
    "#H_jav = np.loadtxt('H.txt')"
   ]
  },
  {
   "cell_type": "code",
   "execution_count": null,
   "metadata": {},
   "outputs": [
    {
     "name": "stderr",
     "output_type": "stream",
     "text": [
      "100%|██████████| 12/12 [00:12<00:00,  1.03s/it]\n",
      "100%|██████████| 12/12 [08:24<00:00, 42.04s/it]  \n"
     ]
    }
   ],
   "source": [
    "# Filtramos a los estados que tengan igual número de electrones UP / DOWN\n",
    "idx_set = []\n",
    "for idx, vect in enumerate(basis_c.base):\n",
    "    act_lvls = lambda tt: np.array([tpl[0] for tpl in next(iter(tt.terms.keys()))])\n",
    "    if len(np.where(act_lvls(vect) % 2 == 0)[0]) == basis_c.m//2:\n",
    "        idx_set.append(idx)\n",
    "idx_set = np.array(idx_set)\n",
    "\n",
    "H = H_sparse[np.ix_(idx_set, idx_set)].todense()\n",
    "# Guardamos la base restringida\n",
    "basis_r = FixedBasis(basis_c.d, basis_c.m, pairs = False, basis = np.array(basis_c.base)[idx_set], num_ele=np.array(basis_c.num_ele)[idx_set])\n",
    "rho_1_arrays_r = rho_m_gen(basis_r, 1)\n",
    "rho_2_arrays_r = rho_m_gen(basis_r, 2)"
   ]
  },
  {
   "cell_type": "code",
   "execution_count": 11,
   "metadata": {},
   "outputs": [
    {
     "ename": "NameError",
     "evalue": "name 'eigen_space' is not defined",
     "output_type": "error",
     "traceback": [
      "\u001b[0;31m---------------------------------------------------------------------------\u001b[0m",
      "\u001b[0;31mNameError\u001b[0m                                 Traceback (most recent call last)",
      "Cell \u001b[0;32mIn[11], line 1\u001b[0m\n\u001b[0;32m----> 1\u001b[0m f \u001b[38;5;241m=\u001b[39m np\u001b[38;5;241m.\u001b[39marray(eigen_space[:,\u001b[38;5;241m0\u001b[39m])\u001b[38;5;241m.\u001b[39mreshape(\u001b[38;5;241m-\u001b[39m\u001b[38;5;241m1\u001b[39m)\n\u001b[1;32m      2\u001b[0m rrr \u001b[38;5;241m=\u001b[39m rho_m(f, rarr)\n\u001b[1;32m      3\u001b[0m np\u001b[38;5;241m.\u001b[39mlinalg\u001b[38;5;241m.\u001b[39meigvals(rrr\u001b[38;5;241m.\u001b[39mtodense())\n",
      "\u001b[0;31mNameError\u001b[0m: name 'eigen_space' is not defined"
     ]
    }
   ],
   "source": [
    "f = np.array(eigen_space[:,0]).reshape(-1)\n",
    "rrr = rho_m(f, rarr)\n",
    "np.linalg.eigvals(rrr.todense())"
   ]
  },
  {
   "cell_type": "code",
   "execution_count": 12,
   "metadata": {},
   "outputs": [],
   "source": [
    "# Veamos los primeros autovalores\n",
    "eigvals, eigvects = np.linalg.eigh(H)\n",
    "# Levantamos el autoespacio fundamental\n",
    "tol = 1e-2\n",
    "idx = np.where(eigvals < min(eigvals)+tol)\n",
    "dimension = len(idx[0])\n",
    "eigen_space = eigvects[:,idx[0]]\n",
    "\n",
    "def purity(coefs):\n",
    "    vect = np.sum([coefs[i] * eigen_space[:,i] for i in range(dimension)], axis=0)\n",
    "    vect *= 1/np.linalg.norm(vect)\n",
    "    vect = vect.T[0]\n",
    "    rho_1 = rho_m(vect, rho_1_arrays_r).todense()\n",
    "    return basis_r.m-np.trace(np.linalg.matrix_power(rho_1, 2))\n",
    "\n",
    "def decomp(coefs):\n",
    "    vect = np.sum([coefs[i] * eigen_space[:,i] for i in range(dimension)], axis=0)\n",
    "    vect *= 1/np.linalg.norm(vect)\n",
    "    vect = vect.T[0]\n",
    "    rho_1 = rho_m(vect, rho_1_arrays_r).todense()\n",
    "    return 1-np.trace(np.linalg.matrix_power(rho_1, 2))\n",
    "\n",
    "\n",
    "#opt = scipy.optimize.minimize(purity, np.random.rand(dimension))\n",
    "#opt, opt.x"
   ]
  },
  {
   "cell_type": "markdown",
   "metadata": {},
   "source": [
    "Verificamos que el autoespacio tenga el spin correcto"
   ]
  },
  {
   "cell_type": "code",
   "execution_count": null,
   "metadata": {},
   "outputs": [
    {
     "name": "stdout",
     "output_type": "stream",
     "text": [
      "Estado 0: <S^2> = 0.0005, <S_z> = 0.0000\n",
      "Estado 1: <S^2> = 2.0000, <S_z> = 0.0000\n",
      "Estado 2: <S^2> = 0.0003, <S_z> = 0.0000\n",
      "Estado 3: <S^2> = 1.9997, <S_z> = 0.0000\n",
      "Estado 4: <S^2> = 2.0000, <S_z> = 0.0000\n",
      "Estado 5: <S^2> = 0.0010, <S_z> = 0.0000\n",
      "Estado 6: <S^2> = 2.0000, <S_z> = 0.0000\n",
      "Estado 7: <S^2> = 5.9996, <S_z> = 0.0000\n",
      "Estado 8: <S^2> = 5.9999, <S_z> = 0.0000\n",
      "Estado 9: <S^2> = 2.0000, <S_z> = 0.0000\n",
      "Estado 10: <S^2> = 2.0001, <S_z> = 0.0000\n",
      "Estado 11: <S^2> = 5.9988, <S_z> = 0.0000\n"
     ]
    },
    {
     "name": "stderr",
     "output_type": "stream",
     "text": [
      "/tmp/ipykernel_12783/716903050.py:17: DeprecationWarning: Conversion of an array with ndim > 0 to a scalar is deprecated, and will error in future. Ensure you extract a single element from your array before performing this operation. (Deprecated NumPy 1.25.)\n",
      "  print(f\"Estado {i}: <S^2> = {float(exp_S2):.4f}, <S_z> = {float(exp_Sz):.4f}\")\n"
     ]
    }
   ],
   "source": [
    "import openfermion as of\n",
    "import numpy as np\n",
    "from scipy.sparse.linalg import eigsh\n",
    "bbb = basis_r\n",
    "\n",
    "# This assumes you have num_orbitals, num_electrons already defined\n",
    "sz_op = of.hamiltonians.sz_operator(bbb.d//2)\n",
    "s2_op = of.hamiltonians.s_squared_operator((1+bbb.d)//2)\n",
    "\n",
    "sz_op = of.get_sparse_operator(sz_op, n_qubits=bbb.d)[np.ix_(bbb.num_ele, bbb.num_ele)]\n",
    "s2_op = of.get_sparse_operator(s2_op, n_qubits=bbb.d)[np.ix_(bbb.num_ele, bbb.num_ele)]\n",
    "\n",
    "for i in range(eigen_space.shape[1]):\n",
    "    state = eigen_space[:,i]\n",
    "    exp_S2 = np.real(state.conj().T @ (s2_op @ state))\n",
    "    exp_Sz = np.real(state.conj().T @ (sz_op @ state))\n",
    "    print(f\"Estado {i}: <S^2> = {float(exp_S2):.4f}, <S_z> = {float(exp_Sz):.4f}\")\n"
   ]
  },
  {
   "cell_type": "markdown",
   "metadata": {},
   "source": [
    "Utilizamos L-BFGS-B para buscar mínimos locales, a partir de distintas semillas. Con una colección de estos, nos fijamos el rango de subespacio. Antes utilizamos shgo, pero subcontaba la cantidad de mínimos"
   ]
  },
  {
   "cell_type": "code",
   "execution_count": 13,
   "metadata": {},
   "outputs": [
    {
     "name": "stderr",
     "output_type": "stream",
     "text": [
      "100%|██████████| 50/50 [01:26<00:00,  1.74s/it]\n"
     ]
    }
   ],
   "source": [
    "maxiter = 50\n",
    "local_minima_arr = []\n",
    "\n",
    "for i in tqdm(range(maxiter)):\n",
    "    seed = np.random.uniform(-1,1,dimension)\n",
    "    seed *= 1/np.linalg.norm(seed)\n",
    "    opt = scipy.optimize.minimize(purity, seed, method='L-BFGS-B')\n",
    "    if purity(opt.x) < 1e-4:\n",
    "        local_minima_arr.append(opt.x)\n",
    "\n",
    "local_minima_arr = np.array(local_minima_arr).T # [:, i] i-esimo vector\n",
    "U, S, Vh  = np.linalg.svd(local_minima_arr)\n",
    "idx = np.where(S > 1e-2)\n",
    "purity_dim = len(idx[0])\n",
    "purity_space = U[:,idx[0]]\n"
   ]
  },
  {
   "cell_type": "code",
   "execution_count": 14,
   "metadata": {},
   "outputs": [
    {
     "data": {
      "text/plain": [
       "array([[-0.57513462, -0.03516632, -0.06068078,  0.0309668 , -0.13499611,\n",
       "         0.55773039],\n",
       "       [ 0.10876082,  0.15278669,  0.32715892,  0.54227879,  0.4130084 ,\n",
       "         0.22725227],\n",
       "       [ 0.02593562,  0.13291264, -0.35580197,  0.5604222 , -0.42930783,\n",
       "        -0.14664449],\n",
       "       [-0.53398172, -0.32765165,  0.35033454,  0.1701595 , -0.01530515,\n",
       "        -0.5463331 ],\n",
       "       [-0.44915237,  0.39871837, -0.27456038, -0.0489364 ,  0.38688255,\n",
       "        -0.37154316],\n",
       "       [-0.0381922 ,  0.55839283,  0.44934875, -0.13214453, -0.35661914,\n",
       "        -0.04057575],\n",
       "       [-0.00470196,  0.00766055,  0.02385209,  0.03636377,  0.02871316,\n",
       "         0.00316526],\n",
       "       [-0.00936723, -0.39923924, -0.32421143,  0.09705151,  0.24429596,\n",
       "         0.06408185],\n",
       "       [ 0.0286563 ,  0.09707123, -0.24956311,  0.39647796, -0.30346781,\n",
       "        -0.11426344],\n",
       "       [ 0.01786572,  0.08223037,  0.26657358,  0.40606626,  0.30057039,\n",
       "         0.10280034],\n",
       "       [-0.0308749 ,  0.45112209, -0.35102623, -0.09145949,  0.29722854,\n",
       "         0.03544414],\n",
       "       [ 0.40765444, -0.02174485,  0.02032845, -0.02999651,  0.13608932,\n",
       "        -0.38551421]])"
      ]
     },
     "execution_count": 14,
     "metadata": {},
     "output_type": "execute_result"
    }
   ],
   "source": [
    "purity_space"
   ]
  },
  {
   "cell_type": "code",
   "execution_count": 20,
   "metadata": {},
   "outputs": [
    {
     "data": {
      "text/plain": [
       "matrix([[ 9.07848326e-10],\n",
       "        [-4.66871078e-11],\n",
       "        [-1.00588758e-08],\n",
       "        [-2.19409633e-08],\n",
       "        [-7.53023508e-07],\n",
       "        [-6.61014198e-08],\n",
       "        [ 4.66871821e-11],\n",
       "        [ 1.00588758e-08],\n",
       "        [ 2.19409636e-08],\n",
       "        [ 7.53023511e-07],\n",
       "        [ 6.61014196e-08],\n",
       "        [ 1.09984398e-09],\n",
       "        [-3.38389698e-10],\n",
       "        [ 5.84371020e-07],\n",
       "        [-2.42165055e-08],\n",
       "        [-3.03532336e-08],\n",
       "        [ 3.38389587e-10],\n",
       "        [-5.84371022e-07],\n",
       "        [ 2.42165054e-08],\n",
       "        [ 3.03532340e-08],\n",
       "        [-7.65392979e-11],\n",
       "        [-6.85404359e-12],\n",
       "        [ 4.78291124e-09],\n",
       "        [ 4.25537421e-10],\n",
       "        [ 6.85401562e-12],\n",
       "        [-4.78291143e-09],\n",
       "        [-4.25537491e-10],\n",
       "        [ 2.41562424e-09],\n",
       "        [-2.73011891e-11],\n",
       "        [-1.11803844e-10],\n",
       "        [ 2.73011613e-11],\n",
       "        [ 1.11803788e-10],\n",
       "        [ 2.39252398e-09],\n",
       "        [ 1.98142450e-10],\n",
       "        [-1.98142378e-10],\n",
       "        [-1.13153584e-10],\n",
       "        [ 2.09941752e-09],\n",
       "        [ 3.46631794e-09],\n",
       "        [ 7.84147971e-10],\n",
       "        [ 1.42855216e-08],\n",
       "        [ 1.23952436e-09],\n",
       "        [-6.07073032e-10],\n",
       "        [ 1.96096341e-05],\n",
       "        [ 9.39122726e-09],\n",
       "        [-1.03200878e-06],\n",
       "        [ 6.95948443e-08],\n",
       "        [ 2.55276446e-06],\n",
       "        [ 2.23998243e-07],\n",
       "        [-2.29208690e-09],\n",
       "        [-1.42654964e-09],\n",
       "        [-3.79258804e-09],\n",
       "        [ 1.86549365e-08],\n",
       "        [-3.23214468e-10],\n",
       "        [ 1.96196142e-05],\n",
       "        [ 8.12709692e-09],\n",
       "        [-1.03260279e-06],\n",
       "        [ 9.30917304e-10],\n",
       "        [-3.91906818e-05],\n",
       "        [-3.53464865e-09],\n",
       "        [ 1.80380881e-06],\n",
       "        [ 3.06072905e-08],\n",
       "        [-8.88344505e-10],\n",
       "        [ 1.02087265e-07],\n",
       "        [ 8.89206343e-09],\n",
       "        [-6.77537344e-08],\n",
       "        [-2.65493625e-06],\n",
       "        [-2.33825928e-07],\n",
       "        [ 3.67271093e-07],\n",
       "        [-6.72008826e-10],\n",
       "        [-1.97165442e-08],\n",
       "        [ 2.54357962e-09],\n",
       "        [ 1.78695975e-08],\n",
       "        [-2.63561734e-07],\n",
       "        [-1.77878409e-08],\n",
       "        [ 1.95695714e-08],\n",
       "        [-5.08617346e-09],\n",
       "        [ 3.77619205e-09],\n",
       "        [-3.31804071e-10],\n",
       "        [ 1.03300247e-09],\n",
       "        [ 1.04615917e-10],\n",
       "        [-1.85686848e-06],\n",
       "        [ 8.21541086e-08],\n",
       "        [ 9.62399292e-08],\n",
       "        [-2.10357726e-07],\n",
       "        [-7.57337046e-09],\n",
       "        [-5.12220102e-09],\n",
       "        [ 1.02283116e-09],\n",
       "        [ 4.12805365e-08],\n",
       "        [ 2.90811647e-09],\n",
       "        [-2.39455196e-09],\n",
       "        [ 1.81588380e-06],\n",
       "        [-8.53962059e-08],\n",
       "        [-9.59042510e-08],\n",
       "        [ 1.08665619e-08],\n",
       "        [ 1.17715069e-07],\n",
       "        [ 9.52379627e-09],\n",
       "        [ 9.34484831e-08],\n",
       "        [ 2.01337665e-08],\n",
       "        [-9.04010692e-09],\n",
       "        [ 1.20443554e-08],\n",
       "        [ 1.06419155e-08],\n",
       "        [ 6.22861437e-10],\n",
       "        [ 2.75689729e-11],\n",
       "        [-1.52042372e-08],\n",
       "        [-1.35456691e-09],\n",
       "        [ 6.18616472e-11],\n",
       "        [ 6.97437304e-12],\n",
       "        [ 2.20969932e-11],\n",
       "        [ 5.82775779e-09],\n",
       "        [-1.22820675e-10],\n",
       "        [-2.48552392e-10],\n",
       "        [ 5.76248691e-11],\n",
       "        [ 2.57468947e-10],\n",
       "        [ 1.01444275e-08],\n",
       "        [ 8.08917641e-10],\n",
       "        [-8.25434409e-10],\n",
       "        [-3.58863962e-10],\n",
       "        [-2.60391499e-09],\n",
       "        [-1.94991174e-10],\n",
       "        [-2.26096719e-10],\n",
       "        [ 4.09240124e-10],\n",
       "        [-4.68495496e-11],\n",
       "        [ 2.66896442e-10],\n",
       "        [-2.91545360e-11],\n",
       "        [-2.83131959e-12],\n",
       "        [ 1.33732840e-10],\n",
       "        [-2.09941778e-09],\n",
       "        [-3.46631799e-09],\n",
       "        [-7.84165041e-10],\n",
       "        [-1.42855220e-08],\n",
       "        [-1.23951673e-09],\n",
       "        [-1.86549364e-08],\n",
       "        [ 9.30917297e-10],\n",
       "        [-3.91906815e-05],\n",
       "        [-3.53464770e-09],\n",
       "        [ 1.80380878e-06],\n",
       "        [-3.23214476e-10],\n",
       "        [ 1.96196142e-05],\n",
       "        [ 8.12709690e-09],\n",
       "        [-1.03260279e-06],\n",
       "        [-3.06072903e-08],\n",
       "        [-6.77537336e-08],\n",
       "        [-2.65493624e-06],\n",
       "        [-2.33825930e-07],\n",
       "        [-8.88344423e-10],\n",
       "        [ 1.02087264e-07],\n",
       "        [ 8.89206345e-09],\n",
       "        [-3.67271091e-07],\n",
       "        [ 2.54358013e-09],\n",
       "        [ 1.78695971e-08],\n",
       "        [-6.72008328e-10],\n",
       "        [-1.97165443e-08],\n",
       "        [ 2.63561733e-07],\n",
       "        [ 1.95695718e-08],\n",
       "        [-1.77878405e-08],\n",
       "        [ 5.08617343e-09],\n",
       "        [-6.07072534e-10],\n",
       "        [ 1.96096341e-05],\n",
       "        [ 9.39122720e-09],\n",
       "        [-1.03200878e-06],\n",
       "        [ 6.95948450e-08],\n",
       "        [ 2.55276447e-06],\n",
       "        [ 2.23998242e-07],\n",
       "        [-2.29208734e-09],\n",
       "        [-1.42654944e-09],\n",
       "        [-3.79258830e-09],\n",
       "        [-3.77619202e-09],\n",
       "        [ 3.31819776e-10],\n",
       "        [-1.03300207e-09],\n",
       "        [-1.04623070e-10],\n",
       "        [-1.02283116e-09],\n",
       "        [ 1.81588380e-06],\n",
       "        [-8.53962064e-08],\n",
       "        [-9.59042500e-08],\n",
       "        [ 4.12805370e-08],\n",
       "        [ 2.90811645e-09],\n",
       "        [-2.39455201e-09],\n",
       "        [-1.08665619e-08],\n",
       "        [ 9.34484880e-08],\n",
       "        [ 2.01337661e-08],\n",
       "        [ 1.17715074e-07],\n",
       "        [ 9.52379562e-09],\n",
       "        [ 9.04010696e-09],\n",
       "        [ 1.06419160e-08],\n",
       "        [ 1.20443560e-08],\n",
       "        [-6.22861451e-10],\n",
       "        [-1.85686849e-06],\n",
       "        [ 8.21541083e-08],\n",
       "        [ 9.62399304e-08],\n",
       "        [-2.10357732e-07],\n",
       "        [-7.57336988e-09],\n",
       "        [-5.12220174e-09],\n",
       "        [-2.75689663e-11],\n",
       "        [ 1.52042372e-08],\n",
       "        [ 1.35456689e-09],\n",
       "        [-5.82775782e-09],\n",
       "        [ 5.76248617e-11],\n",
       "        [ 2.57468944e-10],\n",
       "        [-1.22820679e-10],\n",
       "        [-2.48552397e-10],\n",
       "        [-1.01444275e-08],\n",
       "        [-8.25434422e-10],\n",
       "        [ 8.08917634e-10],\n",
       "        [ 3.58863897e-10],\n",
       "        [ 6.18616508e-11],\n",
       "        [ 6.97436893e-12],\n",
       "        [ 2.20969923e-11],\n",
       "        [ 2.60391502e-09],\n",
       "        [ 1.94991177e-10],\n",
       "        [-4.09240123e-10],\n",
       "        [ 2.66896444e-10],\n",
       "        [-4.68495492e-11],\n",
       "        [ 2.91545367e-11],\n",
       "        [-2.26096722e-10],\n",
       "        [ 2.83132105e-12],\n",
       "        [-1.33732842e-10],\n",
       "        [ 4.70317439e-07],\n",
       "        [ 3.12030419e-07],\n",
       "        [-1.01124258e-04],\n",
       "        [ 2.28751690e-05],\n",
       "        [ 6.91442508e-06],\n",
       "        [-3.12030419e-07],\n",
       "        [ 1.01124258e-04],\n",
       "        [-2.28751691e-05],\n",
       "        [-6.91442514e-06],\n",
       "        [ 1.92872010e-07],\n",
       "        [ 5.10522258e-08],\n",
       "        [ 8.25241977e-07],\n",
       "        [ 7.19791559e-08],\n",
       "        [-5.10553444e-08],\n",
       "        [-8.25242056e-07],\n",
       "        [-7.19777324e-08],\n",
       "        [-1.71874007e-05],\n",
       "        [ 1.26125225e-07],\n",
       "        [ 1.11240983e-06],\n",
       "        [-1.25890850e-07],\n",
       "        [-1.11247439e-06],\n",
       "        [ 1.49703766e-05],\n",
       "        [ 1.35576510e-06],\n",
       "        [-1.35565967e-06],\n",
       "        [ 2.28005722e-07],\n",
       "        [ 3.73310212e-06],\n",
       "        [-3.10558893e-05],\n",
       "        [ 2.75159489e-04],\n",
       "        [ 2.60421009e-05],\n",
       "        [-7.79277992e-03],\n",
       "        [-1.44185406e-05],\n",
       "        [ 3.57491458e-04],\n",
       "        [ 5.74234973e-01],\n",
       "        [ 4.94493094e-02],\n",
       "        [ 2.64340242e-02],\n",
       "        [-2.26401153e-09],\n",
       "        [ 3.89959957e-03],\n",
       "        [ 8.76206354e-06],\n",
       "        [-2.04569243e-04],\n",
       "        [ 3.90086083e-03],\n",
       "        [ 8.45284250e-06],\n",
       "        [-2.04658189e-04],\n",
       "        [-1.02603041e-06],\n",
       "        [-2.87259331e-01],\n",
       "        [-2.73838828e-02],\n",
       "        [-2.87256438e-01],\n",
       "        [-2.73837658e-02],\n",
       "        [ 1.15043435e-06],\n",
       "        [-1.51306764e-02],\n",
       "        [-1.51310214e-02],\n",
       "        [ 1.27097022e-08],\n",
       "        [-2.70729191e-08],\n",
       "        [-1.00430826e-04],\n",
       "        [-8.95439267e-06],\n",
       "        [-1.43344939e-04],\n",
       "        [-1.22950411e-05],\n",
       "        [-6.21284631e-06],\n",
       "        [ 5.02131842e-05],\n",
       "        [ 7.12964282e-05],\n",
       "        [ 4.41556409e-06],\n",
       "        [ 7.20961980e-05],\n",
       "        [ 9.49304428e-06],\n",
       "        [-2.35684736e-05],\n",
       "        [ 2.05159472e-06],\n",
       "        [ 5.28026478e-06],\n",
       "        [-9.29398536e-07],\n",
       "        [ 2.05938046e-03],\n",
       "        [ 1.83489769e-04],\n",
       "        [ 9.25772410e-05],\n",
       "        [ 8.81305150e-05],\n",
       "        [-2.11407387e-06],\n",
       "        [-1.02117626e-04],\n",
       "        [ 6.14722334e-06],\n",
       "        [-1.01719775e-05],\n",
       "        [-6.50526459e-05],\n",
       "        [-3.73310214e-06],\n",
       "        [ 3.10558895e-05],\n",
       "        [-2.75159491e-04],\n",
       "        [-2.60421008e-05],\n",
       "        [ 2.26401181e-09],\n",
       "        [ 3.90086083e-03],\n",
       "        [ 8.45284251e-06],\n",
       "        [-2.04658189e-04],\n",
       "        [ 3.89959957e-03],\n",
       "        [ 8.76206355e-06],\n",
       "        [-2.04569243e-04],\n",
       "        [ 1.02603041e-06],\n",
       "        [-2.87256438e-01],\n",
       "        [-2.73837658e-02],\n",
       "        [-2.87259331e-01],\n",
       "        [-2.73838828e-02],\n",
       "        [-1.15043436e-06],\n",
       "        [-1.51310214e-02],\n",
       "        [-1.51306764e-02],\n",
       "        [-1.27096936e-08],\n",
       "        [-7.79277997e-03],\n",
       "        [-1.44185409e-05],\n",
       "        [ 3.57491464e-04],\n",
       "        [ 5.74234977e-01],\n",
       "        [ 4.94493091e-02],\n",
       "        [ 2.64340246e-02],\n",
       "        [ 2.70729155e-08],\n",
       "        [ 1.00430827e-04],\n",
       "        [ 8.95439263e-06],\n",
       "        [-5.02131845e-05],\n",
       "        [ 7.20961995e-05],\n",
       "        [ 9.49304388e-06],\n",
       "        [ 7.12964297e-05],\n",
       "        [ 4.41556365e-06],\n",
       "        [ 2.35684737e-05],\n",
       "        [ 5.28026546e-06],\n",
       "        [ 2.05159541e-06],\n",
       "        [ 9.29398539e-07],\n",
       "        [-1.43344940e-04],\n",
       "        [-1.22950410e-05],\n",
       "        [-6.21284641e-06],\n",
       "        [-2.05938047e-03],\n",
       "        [-1.83489768e-04],\n",
       "        [-8.81305159e-05],\n",
       "        [-1.02117627e-04],\n",
       "        [-2.11407384e-06],\n",
       "        [-6.14722328e-06],\n",
       "        [ 9.25772423e-05],\n",
       "        [ 1.01719777e-05],\n",
       "        [ 6.50526462e-05],\n",
       "        [ 1.40563659e-07],\n",
       "        [ 1.67318320e-07],\n",
       "        [-2.27967835e-06],\n",
       "        [-2.11203788e-07],\n",
       "        [-1.67315203e-07],\n",
       "        [ 2.27967844e-06],\n",
       "        [ 2.11202364e-07],\n",
       "        [ 1.52918219e-05],\n",
       "        [-3.10140020e-08],\n",
       "        [-9.79625622e-07],\n",
       "        [ 3.07796168e-08],\n",
       "        [ 9.79690182e-07],\n",
       "        [-1.78893031e-05],\n",
       "        [-1.62706078e-06],\n",
       "        [ 1.62695535e-06],\n",
       "        [ 1.03049112e-07],\n",
       "        [ 4.68541507e-06],\n",
       "        [-3.37460311e-06],\n",
       "        [-5.26065026e-07],\n",
       "        [ 3.62074788e-03],\n",
       "        [ 3.10957405e-04],\n",
       "        [ 1.66631204e-04],\n",
       "        [ 1.44530556e-06],\n",
       "        [-1.80534855e-03],\n",
       "        [-1.72961588e-04],\n",
       "        [-1.81719168e-03],\n",
       "        [-1.72613744e-04],\n",
       "        [-7.84510457e-07],\n",
       "        [-9.58636277e-05],\n",
       "        [-9.56234141e-05],\n",
       "        [ 1.71671376e-08],\n",
       "        [ 5.73072673e-05],\n",
       "        [ 2.31519202e-06],\n",
       "        [ 2.27458444e-05],\n",
       "        [-1.63180139e-03],\n",
       "        [-1.30616800e-04],\n",
       "        [ 1.19692581e-04],\n",
       "        [ 4.49830431e-05],\n",
       "        [ 7.87238229e-05],\n",
       "        [-7.05586481e-06],\n",
       "        [-4.68541510e-06],\n",
       "        [ 3.37460310e-06],\n",
       "        [ 5.26065035e-07],\n",
       "        [-1.44530556e-06],\n",
       "        [-1.81719168e-03],\n",
       "        [-1.72613744e-04],\n",
       "        [-1.80534855e-03],\n",
       "        [-1.72961588e-04],\n",
       "        [ 7.84510453e-07],\n",
       "        [-9.56234141e-05],\n",
       "        [-9.58636276e-05],\n",
       "        [-1.71671354e-08],\n",
       "        [ 3.62074790e-03],\n",
       "        [ 3.10957403e-04],\n",
       "        [ 1.66631207e-04],\n",
       "        [-5.73072670e-05],\n",
       "        [-2.31519213e-06],\n",
       "        [ 1.63180139e-03],\n",
       "        [ 1.19692582e-04],\n",
       "        [-1.30616799e-04],\n",
       "        [-4.49830434e-05],\n",
       "        [ 2.27458445e-05],\n",
       "        [-7.87238237e-05],\n",
       "        [ 7.05586486e-06],\n",
       "        [-3.30004087e-07],\n",
       "        [-1.66763544e-09],\n",
       "        [ 1.84699608e-08],\n",
       "        [ 1.66764505e-09],\n",
       "        [-1.84699635e-08],\n",
       "        [ 5.95304881e-07],\n",
       "        [ 4.49589213e-08],\n",
       "        [-4.49589167e-08],\n",
       "        [-1.82744328e-09],\n",
       "        [-1.29152501e-05],\n",
       "        [-1.14669322e-06],\n",
       "        [-5.87093679e-07],\n",
       "        [-1.49292253e-07],\n",
       "        [ 4.54860501e-08],\n",
       "        [ 6.12792969e-07],\n",
       "        [-4.97600902e-08],\n",
       "        [ 4.46468269e-08],\n",
       "        [ 4.08398763e-07],\n",
       "        [ 1.29152501e-05],\n",
       "        [ 1.14669322e-06],\n",
       "        [ 1.49292257e-07],\n",
       "        [ 6.12792971e-07],\n",
       "        [ 4.54860497e-08],\n",
       "        [ 4.97600899e-08],\n",
       "        [-5.87093687e-07],\n",
       "        [-4.46468280e-08],\n",
       "        [-4.08398765e-07],\n",
       "        [-6.91888349e-06],\n",
       "        [-5.47985467e-07],\n",
       "        [ 5.47985464e-07],\n",
       "        [ 1.56560322e-07],\n",
       "        [ 3.06257881e-07],\n",
       "        [-2.63804046e-08],\n",
       "        [-3.06257882e-07],\n",
       "        [ 2.63804048e-08],\n",
       "        [ 1.86718953e-07]])"
      ]
     },
     "execution_count": 20,
     "metadata": {},
     "output_type": "execute_result"
    }
   ],
   "source": [
    "eigen_space[:,0]"
   ]
  },
  {
   "cell_type": "code",
   "execution_count": 35,
   "metadata": {},
   "outputs": [
    {
     "ename": "IndexError",
     "evalue": "index 1 is out of bounds for axis 1 with size 1",
     "output_type": "error",
     "traceback": [
      "\u001b[0;31m---------------------------------------------------------------------------\u001b[0m",
      "\u001b[0;31mIndexError\u001b[0m                                Traceback (most recent call last)",
      "Cell \u001b[0;32mIn[35], line 2\u001b[0m\n\u001b[1;32m      1\u001b[0m v \u001b[38;5;241m=\u001b[39m np\u001b[38;5;241m.\u001b[39msum([purity_space[k,\u001b[38;5;241m0\u001b[39m] \u001b[38;5;241m*\u001b[39m eigen_space[:,k] \u001b[38;5;28;01mfor\u001b[39;00m k \u001b[38;5;129;01min\u001b[39;00m \u001b[38;5;28mrange\u001b[39m(purity_dim)], axis\u001b[38;5;241m=\u001b[39m\u001b[38;5;241m0\u001b[39m)\n\u001b[0;32m----> 2\u001b[0m rho \u001b[38;5;241m=\u001b[39m partial_traspose(v, [\u001b[38;5;241m0\u001b[39m, \u001b[38;5;241m1\u001b[39m, \u001b[38;5;241m2\u001b[39m, \u001b[38;5;241m3\u001b[39m])\n",
      "Cell \u001b[0;32mIn[8], line 13\u001b[0m, in \u001b[0;36mpartial_traspose\u001b[0;34m(rho, perm, upup)\u001b[0m\n\u001b[1;32m     11\u001b[0m         indices \u001b[38;5;241m=\u001b[39m (i, j, k, l)\n\u001b[1;32m     12\u001b[0m         ip, jp, kp, lp \u001b[38;5;241m=\u001b[39m \u001b[38;5;28mtuple\u001b[39m(indices[p] \u001b[38;5;28;01mfor\u001b[39;00m p \u001b[38;5;129;01min\u001b[39;00m perm)\n\u001b[0;32m---> 13\u001b[0m         rho_p[m,n] \u001b[38;5;241m=\u001b[39m rho[ip\u001b[38;5;241m*\u001b[39md \u001b[38;5;241m+\u001b[39m jp, kp\u001b[38;5;241m*\u001b[39md \u001b[38;5;241m+\u001b[39m lp]\n\u001b[1;32m     14\u001b[0m \u001b[38;5;28;01mreturn\u001b[39;00m rho_p\n",
      "\u001b[0;31mIndexError\u001b[0m: index 1 is out of bounds for axis 1 with size 1"
     ]
    }
   ],
   "source": [
    "v = np.sum([purity_space[k,0] * eigen_space[:,k] for k in range(purity_dim)], axis=0)\n",
    "rho = partial_traspose(v, [0, 1, 2, 3]) "
   ]
  },
  {
   "cell_type": "code",
   "execution_count": null,
   "metadata": {},
   "outputs": [
    {
     "name": "stderr",
     "output_type": "stream",
     "text": [
      "100%|██████████| 12/12 [00:44<00:00,  3.68s/it]\n"
     ]
    }
   ],
   "source": [
    "rho_2_extended_updown  = rho_2_gen_ext(basis_r, upup = False)"
   ]
  },
  {
   "cell_type": "code",
   "execution_count": 49,
   "metadata": {},
   "outputs": [
    {
     "data": {
      "text/plain": [
       "((12, 6), (441, 12))"
      ]
     },
     "execution_count": 49,
     "metadata": {},
     "output_type": "execute_result"
    }
   ],
   "source": [
    "purity_space.shape, eigen_space.shape"
   ]
  },
  {
   "cell_type": "code",
   "execution_count": 73,
   "metadata": {},
   "outputs": [
    {
     "data": {
      "text/plain": [
       "(441, 441)"
      ]
     },
     "execution_count": 73,
     "metadata": {},
     "output_type": "execute_result"
    }
   ],
   "source": [
    "opp.shape"
   ]
  },
  {
   "cell_type": "code",
   "execution_count": 72,
   "metadata": {},
   "outputs": [
    {
     "data": {
      "text/plain": [
       "array([[ 0., -0., -0., ..., -0.,  0.,  0.],\n",
       "       [-0.,  0.,  0., ...,  0.,  0., -0.],\n",
       "       [-0.,  0.,  0., ...,  0., -0., -0.],\n",
       "       ...,\n",
       "       [-0.,  0.,  0., ...,  0., -0.,  0.],\n",
       "       [ 0.,  0., -0., ..., -0.,  0., -0.],\n",
       "       [ 0., -0., -0., ...,  0., -0.,  0.]])"
      ]
     },
     "execution_count": 72,
     "metadata": {},
     "output_type": "execute_result"
    }
   ],
   "source": [
    "pp_idx = np.zeros((6,441))\n",
    "for i in range(6):\n",
    "    pp_idx[i] = np.sum([purity_space[k,i] * eigen_space[:,k] for k in range(12)], axis=0).flatten()\n",
    "\n",
    "A = np.array(pp_idx).T\n",
    "opp = A @ np.linalg.inv(A.T @ A) @ A.T\n",
    "\n",
    "np.round(opp,4)"
   ]
  },
  {
   "cell_type": "code",
   "execution_count": 102,
   "metadata": {},
   "outputs": [
    {
     "name": "stdout",
     "output_type": "stream",
     "text": [
      "[6.5 6.  5.  4.  3.5 3.  2.5 1.5 0.5 0. ]\n",
      "[6.  5.5 5.  4.  3.5 3.  2.5 1.5 0.5 0. ]\n",
      "[6.  5.  4.5 4.  3.5 3.  2.5 1.5 0.5 0. ]\n",
      "[6.5 6.  5.5 4.5 3.5 3.  2.  1.  0.5 0. ]\n",
      "[6.5 5.5 5.  4.5 3.5 3.  2.  1.  0.5 0. ]\n",
      "[6.5 5.5 4.5 4.  3.5 3.  2.  1.  0.5 0. ]\n"
     ]
    }
   ],
   "source": [
    "diag_elem = np.where(np.abs(opp) > 1e-1)[0]\n",
    "for i in range(6):\n",
    "    act_lvls = lambda tt: [tpl[0] for tpl in next(iter(tt.terms.keys()))] # Consistente con lo anterior\n",
    "    print(6.5-np.array(act_lvls(basis_r.base[diag_elem[i]]))/2)\n",
    "    #print(basis_r.base[diag_elem[i]])\n"
   ]
  },
  {
   "cell_type": "code",
   "execution_count": null,
   "metadata": {},
   "outputs": [],
   "source": [
    "U, S, Vh  = np.linalg.svd(local_minima_arr)\n",
    "idx = np.where(S > 1e-2)\n",
    "purity_dim = len(idx[0])\n",
    "purity_space = U[:,idx[0]]\n",
    "\n",
    "coefs = np.sum([1 * purity_space[:,i] for i in range(purity_dim)], axis=0)\n",
    "vect = np.sum([coefs[i] * eigen_space[:,i] for i in range(dimension)], axis=0)\n",
    "vect = np.array(vect).flatten()\n",
    "vect *= 1/np.linalg.norm(vect)\n",
    "\n",
    "\n",
    "# Construimos la base reduciuda y la matriz C\n",
    "C = vect_to_tensor_array(basis, vect)\n",
    "\n",
    "# Arrancamos rotando a la base natural\n",
    "rho_up = C @ np.transpose(C)\n",
    "rho_down = np.transpose(C) @ C\n",
    "\n",
    "#rho = rho_m(vect, rho_2_extended_updown)\n",
    "#rho = partial_traspose(rho, [0, 3, 2, 1]) \n",
    "#print(np.sort(np.linalg.eigvals(rho)))\n",
    "\n"
   ]
  },
  {
   "cell_type": "code",
   "execution_count": null,
   "metadata": {},
   "outputs": [
    {
     "name": "stdout",
     "output_type": "stream",
     "text": [
      "  message: Optimization terminated successfully.\n",
      "  success: True\n",
      "   status: 0\n",
      "      fun: -8.999999778160634\n",
      "        x: [ 1.041e+00  1.335e+00  2.288e-06  5.717e-01  7.936e-07\n",
      "            -6.305e-07]\n",
      "      nit: 6\n",
      "      jac: [ 0.000e+00  4.768e-07  7.153e-07  0.000e+00  4.768e-07\n",
      "            -8.345e-07]\n",
      " hess_inv: [[ 1.274e+00  3.514e-01 ... -6.656e-02 -1.304e-02]\n",
      "            [ 3.514e-01  1.451e+00 ... -8.613e-02 -1.564e-02]\n",
      "            ...\n",
      "            [-6.656e-02 -8.613e-02 ...  4.171e-01  2.714e-01]\n",
      "            [-1.304e-02 -1.564e-02 ...  2.714e-01  5.390e-01]]\n",
      "     nfev: 77\n",
      "     njev: 11\n",
      "[ 5.82635519e-01  7.47071848e-01  1.28071271e-06  3.20030477e-01\n",
      "  4.44251153e-07 -3.52981057e-07]\n"
     ]
    }
   ],
   "source": [
    "def decomp(coefs):\n",
    "    coefs = np.sum([coefs[i] * purity_space[:,i] for i in range(purity_dim)], axis=0)\n",
    "    vect = np.sum([coefs[i] * eigen_space[:,i] for i in range(dimension)], axis=0)\n",
    "    vect = vect.T[0]\n",
    "    vect *= 1/np.linalg.norm(vect)\n",
    "    rho_1 = rho_m(vect, rho_1_arrays_r).todense()\n",
    "    return 1-np.trace(np.linalg.matrix_power(rho_1, 2))\n",
    "\n",
    "opt2 = scipy.optimize.minimize(decomp, np.random.rand(purity_dim))\n",
    "ooo = opt2.x\n",
    "print(opt2)\n",
    "ooo *= 1/np.linalg.norm(ooo)\n",
    "print(ooo)"
   ]
  },
  {
   "cell_type": "markdown",
   "metadata": {},
   "source": [
    "Transpuesta parcial sobre el proyector al autoespacio. Recordar que utilizamos la convención de OF, donde los índices pares son UP y los impares DOWN"
   ]
  },
  {
   "cell_type": "code",
   "execution_count": null,
   "metadata": {},
   "outputs": [
    {
     "name": "stderr",
     "output_type": "stream",
     "text": [
      "/tmp/ipykernel_36865/1646309796.py:30: DeprecationWarning: Conversion of an array with ndim > 0 to a scalar is deprecated, and will error in future. Ensure you extract a single element from your array before performing this operation. (Deprecated NumPy 1.25.)\n",
      "  C[i, j] = sign * state[r_idx]\n"
     ]
    },
    {
     "data": {
      "text/plain": [
       "array([-9.99999916e-01, -9.99999916e-01, -1.87175042e-04, -1.87171684e-04,\n",
       "       -1.73404358e-04, -1.73238279e-04, -1.64250726e-04, -1.63960241e-04,\n",
       "       -9.84856530e-05, -9.82899512e-05, -9.78538435e-05, -9.77073882e-05,\n",
       "       -9.68740766e-05, -9.68719231e-05, -8.21697720e-05, -8.21690267e-05,\n",
       "       -7.83072212e-05, -7.83010724e-05, -7.42543531e-05, -7.42281399e-05,\n",
       "       -1.24041319e-05, -1.21150203e-05, -1.07390199e-05, -1.05004889e-05,\n",
       "       -6.70333511e-06, -6.34326468e-06, -5.99758925e-06, -5.97232319e-06,\n",
       "       -5.37842435e-06, -5.36733577e-06, -4.65190701e-06, -4.30078724e-06,\n",
       "       -1.14180677e-06, -1.14012386e-06, -9.11831809e-07, -9.01436774e-07,\n",
       "       -7.13688950e-07, -7.04671947e-07, -5.03235337e-07, -5.03204819e-07,\n",
       "       -5.03101015e-07, -5.02740112e-07, -5.02437031e-07, -5.00583784e-07,\n",
       "       -4.49978505e-07, -4.48570345e-07, -4.41402278e-07, -4.35850725e-07,\n",
       "       -4.30319891e-07, -4.29443585e-07, -3.07377998e-07, -2.85751367e-07,\n",
       "       -2.11721309e-07, -2.02392179e-07, -1.85878113e-07, -1.82676489e-07,\n",
       "       -8.49423491e-08, -7.96443020e-08, -6.76122906e-08, -5.99210689e-08,\n",
       "       -3.26064105e-08, -3.23773427e-08, -3.09818599e-08, -2.94221883e-08,\n",
       "       -2.62496314e-08, -2.53497536e-08, -2.44080964e-08, -2.09694511e-08,\n",
       "       -1.86622193e-08, -1.38156154e-08, -1.32889012e-08, -1.23297651e-08,\n",
       "       -1.15411866e-08, -1.13379603e-08, -8.93520530e-09, -7.56760826e-09,\n",
       "       -6.04731319e-09, -5.56388484e-09, -4.29053298e-09, -3.58786364e-09,\n",
       "       -2.19597834e-09, -1.59771208e-09, -1.43881023e-09, -1.14672280e-09,\n",
       "       -9.95050209e-10, -9.03947154e-10, -8.86171530e-10, -8.80401003e-10,\n",
       "       -8.29167432e-10, -8.10134172e-10, -7.99070109e-10, -7.39456487e-10,\n",
       "       -7.15985214e-10, -5.96786258e-10, -5.86771486e-10, -5.83068980e-10,\n",
       "       -5.32655921e-10, -4.93064343e-10, -4.08589613e-10, -4.01629862e-10,\n",
       "       -3.88443361e-10, -3.23143836e-10, -3.14284737e-10, -2.47441118e-10,\n",
       "       -1.94042014e-10, -1.69368703e-10, -1.38233747e-10, -1.35733378e-10,\n",
       "       -1.30732102e-10, -1.22096647e-10, -1.18204190e-10, -1.12542180e-10,\n",
       "       -1.07766577e-10, -1.07417114e-10, -1.02501576e-10, -9.10756599e-11,\n",
       "       -8.94305833e-11, -8.64594736e-11, -8.14147928e-11, -8.02231508e-11,\n",
       "       -7.15719446e-11, -7.06043380e-11, -6.85800366e-11, -6.67385885e-11,\n",
       "       -6.34582571e-11, -6.30562492e-11, -6.11468391e-11, -5.98647326e-11,\n",
       "       -5.88150084e-11, -5.87988326e-11, -5.76331119e-11, -5.46070747e-11,\n",
       "       -3.00573773e-11, -2.41519404e-11, -1.97971916e-11, -1.19111199e-11,\n",
       "       -1.01029304e-11, -9.49047483e-12, -3.67585126e-12, -5.16832445e-13,\n",
       "       -4.86215264e-13, -4.85567967e-13, -4.77886492e-13, -4.00592978e-13,\n",
       "       -3.79529434e-13, -3.35128156e-13, -2.02708780e-13, -1.92375323e-13,\n",
       "       -7.37464636e-14, -5.87446472e-14, -4.87435714e-14, -4.28199938e-14,\n",
       "       -3.87651896e-14, -2.74883565e-14, -2.71067067e-14, -2.67135946e-14,\n",
       "       -2.54272273e-14, -2.45577964e-14, -2.28787517e-14, -1.85456287e-14,\n",
       "       -1.44917776e-14, -1.29385417e-14, -9.33947334e-15, -7.97091613e-15,\n",
       "       -6.30358617e-15, -4.93874513e-15, -3.55931340e-15, -2.88542059e-15,\n",
       "       -2.32092284e-15, -2.25726855e-15, -1.61707253e-15, -1.21080227e-15,\n",
       "       -1.14506049e-15, -1.11012460e-15, -1.07973438e-15, -1.05925907e-15,\n",
       "       -9.63604166e-16, -4.90288197e-16, -4.16726280e-16, -2.93492684e-16,\n",
       "       -2.01491534e-16, -1.96820180e-16, -1.92000266e-16, -1.52067306e-16,\n",
       "       -1.35345075e-16, -1.24217182e-16, -1.08385151e-16, -1.02890121e-16,\n",
       "       -9.23254361e-17, -6.92197947e-17, -3.68618590e-17, -1.87446636e-17,\n",
       "       -8.80119739e-18, -4.32225026e-18, -3.77345970e-18, -3.27376734e-18,\n",
       "       -2.26752158e-18, -3.13177482e-20,  4.16658826e-20,  4.66758194e-20,\n",
       "        1.51094087e-19,  3.18011490e-18,  4.76320470e-18,  6.20725257e-18,\n",
       "        1.44968878e-17,  2.02398961e-17,  2.81093201e-17,  3.89848817e-17,\n",
       "        6.62992368e-17,  8.46758291e-17,  8.88236506e-17,  1.15482224e-16,\n",
       "        1.20364205e-16,  1.29222135e-16,  1.33853117e-16,  1.43259568e-16,\n",
       "        2.18670140e-16,  2.27938456e-16,  2.97849156e-16,  3.26993614e-16,\n",
       "        4.81926256e-16,  6.12981596e-16,  9.46217693e-16,  1.00678813e-15,\n",
       "        1.10027528e-15,  1.13168379e-15,  1.19307137e-15,  1.46719310e-15,\n",
       "        1.76068782e-15,  1.79725721e-15,  2.76212832e-15,  2.94344939e-15,\n",
       "        3.46357415e-15,  5.83556638e-15,  1.12833203e-14,  1.13173367e-14,\n",
       "        1.30208720e-14,  1.60712398e-14,  2.11431947e-14,  2.17602826e-14,\n",
       "        2.47846584e-14,  2.49125721e-14,  2.88545706e-14,  3.05968129e-14,\n",
       "        3.48501133e-14,  3.85343574e-14,  5.86058669e-14,  6.76597165e-14,\n",
       "        7.31577576e-14,  9.12450370e-14,  1.46138458e-13,  1.85853407e-13,\n",
       "        1.98038686e-13,  2.33227145e-13,  3.15873702e-13,  3.99566129e-13,\n",
       "        4.31935578e-13,  4.31952489e-13,  4.75437178e-13,  4.84387837e-13,\n",
       "        4.99274781e-13,  6.31468403e-13,  6.31517329e-13,  6.92609767e-13,\n",
       "        7.38708138e-13,  7.38863703e-13,  8.31609983e-13,  8.31653146e-13,\n",
       "        8.73980046e-13,  8.78389869e-13,  9.08556980e-13,  1.03835812e-12,\n",
       "        1.76516565e-12,  9.39542392e-12,  1.03901078e-11,  1.74217538e-11,\n",
       "        2.37235342e-11,  3.22131686e-11,  4.81775144e-11,  5.87670216e-11,\n",
       "        5.88924928e-11,  5.90728701e-11,  6.00896212e-11,  6.37828239e-11,\n",
       "        6.38020935e-11,  6.44748663e-11,  6.95147213e-11,  7.09937435e-11,\n",
       "        7.18749720e-11,  7.58217233e-11,  7.67022142e-11,  8.02576019e-11,\n",
       "        8.03180008e-11,  8.73465683e-11,  9.05540616e-11,  1.00347186e-10,\n",
       "        1.07504142e-10,  1.08552964e-10,  1.10278449e-10,  1.21763566e-10,\n",
       "        1.22162428e-10,  1.33996106e-10,  1.38286699e-10,  1.45018867e-10,\n",
       "        1.53926294e-10,  1.70943021e-10,  1.78311852e-10,  2.52637061e-10,\n",
       "        2.61460523e-10,  3.30049552e-10,  4.09442450e-10,  4.19319466e-10,\n",
       "        4.58772870e-10,  5.31627277e-10,  5.91816447e-10,  6.07504021e-10,\n",
       "        6.28658658e-10,  6.38896658e-10,  7.22241446e-10,  7.28480311e-10,\n",
       "        7.31618813e-10,  8.09979223e-10,  8.37559249e-10,  8.60422108e-10,\n",
       "        8.75623596e-10,  9.08122175e-10,  9.15378657e-10,  1.05261432e-09,\n",
       "        1.16038534e-09,  1.38331785e-09,  1.76185262e-09,  3.94653256e-09,\n",
       "        5.63621760e-09,  7.15954365e-09,  9.14622215e-09,  9.90955770e-09,\n",
       "        1.19841283e-08,  1.21473455e-08,  1.32211113e-08,  1.38138686e-08,\n",
       "        1.40858183e-08,  1.41966286e-08,  1.63029790e-08,  1.77339862e-08,\n",
       "        1.80877215e-08,  1.86627907e-08,  1.96203070e-08,  2.03335758e-08,\n",
       "        2.16015716e-08,  2.17716861e-08,  2.26427972e-08,  2.33146227e-08,\n",
       "        2.37381373e-08,  2.44622304e-08,  3.15331060e-08,  3.16471114e-08,\n",
       "        3.29042084e-08,  3.54947328e-08,  3.69802636e-08,  4.20613184e-08,\n",
       "        4.94075852e-08,  8.63200593e-08,  9.73151288e-08,  9.86878324e-08,\n",
       "        1.00177959e-07,  2.02509157e-07,  2.23258763e-07,  2.29768793e-07,\n",
       "        2.47808266e-07,  3.27151475e-07,  3.47802372e-07,  4.29628081e-07,\n",
       "        4.34669179e-07,  4.36488787e-07,  4.46415947e-07,  4.50873348e-07,\n",
       "        4.51873410e-07,  4.96665764e-07,  5.01182418e-07,  5.02741931e-07,\n",
       "        5.02750111e-07,  5.03202333e-07,  5.03206646e-07,  7.01600922e-07,\n",
       "        7.10302362e-07,  9.03533455e-07,  9.14384686e-07,  1.14017304e-06,\n",
       "        1.14224874e-06,  4.33328079e-06,  4.68880752e-06,  5.41333572e-06,\n",
       "        5.42161173e-06,  5.99396899e-06,  6.01758541e-06,  6.37923186e-06,\n",
       "        6.74078296e-06,  1.04715340e-05,  1.07103368e-05,  1.20801788e-05,\n",
       "        1.23692824e-05,  7.43937247e-05,  7.44202219e-05,  7.85296010e-05,\n",
       "        7.85374969e-05,  8.24645054e-05,  8.24653123e-05,  9.67877566e-05,\n",
       "        9.67899854e-05,  9.76262052e-05,  9.77700832e-05,  9.82272990e-05,\n",
       "        9.84209557e-05,  1.63732743e-04,  1.64027309e-04,  1.72953415e-04,\n",
       "        1.73119110e-04,  1.86803614e-04,  1.86807043e-04,  4.99978469e-01,\n",
       "        4.99978469e-01,  4.99989211e-01,  4.99989211e-01,  4.99989217e-01,\n",
       "        4.99989217e-01,  4.99999982e-01,  4.99999982e-01,  5.00000040e-01,\n",
       "        5.00000040e-01,  5.00010770e-01,  5.00010770e-01,  5.00010776e-01,\n",
       "        5.00010776e-01,  5.00021587e-01,  5.00021587e-01,  9.99999953e-01,\n",
       "        9.99999953e-01,  9.99999970e-01,  9.99999970e-01,  9.99999995e-01,\n",
       "        9.99999995e-01])"
      ]
     },
     "execution_count": 69,
     "metadata": {},
     "output_type": "execute_result"
    }
   ],
   "source": [
    "from sympy.combinatorics import Permutation\n",
    "\n",
    "\n",
    "\n",
    "# Reescribimos los elementos de la base en términos de productos tensorial\n",
    "up_lvls = []\n",
    "down_lvls = []\n",
    "act_lvls = lambda tt: np.array([tpl[0] for tpl in next(iter(tt.terms.keys()))])\n",
    "for op in basis_r.base:\n",
    "    up_lvls.append(tuple(sorted(l for l in act_lvls(op) if l % 2 == 0)))\n",
    "    down_lvls.append(tuple(sorted(l for l in act_lvls(op) if l % 2 == 1)))\n",
    "\n",
    "# Filtramos los elemetos únicos, obteniendo la base de un lado del producto tensorial\n",
    "u_up_lvls = np.array(list(set(up_lvls)))\n",
    "u_down_lvls = np.array(list(set(down_lvls)))\n",
    "\n",
    "# Obtenemos la matrix C_{\\mu\\nu}\n",
    "def tensor_decomp(state):\n",
    "    s = len(u_up_lvls)\n",
    "    C = np.zeros((s,s))\n",
    "    act_to_int = lambda x: np.sum([2**i for i in x])\n",
    "    for i, j in itertools.product(range(s), repeat=2):\n",
    "        targ_state_pre = np.concatenate([u_up_lvls[i], u_down_lvls[j]])\n",
    "        targ_state = tuple(sorted(targ_state_pre))\n",
    "        r_idx = np.where(basis_r.num_ele == act_to_int(targ_state))[0]\n",
    "        # Calculamos el signo de la permutación al sortearlos\n",
    "        perm = np.argsort(targ_state_pre)\n",
    "        p = Permutation(list(perm))\n",
    "        sign = p.signature()\n",
    "        C[i, j] = sign * state[r_idx]\n",
    "\n",
    "    return C\n",
    "\n",
    "def partial_transpose(C):\n",
    "    s = len(u_up_lvls)\n",
    "    res = np.zeros((s**2,s**2))\n",
    "    for mu, nu, mup, nup in itertools.product(range(s), repeat=4):\n",
    "        i = s * mu + nu\n",
    "        j = s * mup + nup\n",
    "        res[i, j] = C[mu, nup] * C[mup, nu]\n",
    "    return res\n",
    "\n",
    "pt = lambda x: partial_transpose(tensor_decomp(x))\n",
    "mat = np.sum([pt(eigen_space[:,i]) for i in range(dimension)], axis=0)\n",
    "np.sort(np.linalg.eigvals(mat))"
   ]
  },
  {
   "cell_type": "markdown",
   "metadata": {},
   "source": [
    "# Misc"
   ]
  },
  {
   "cell_type": "markdown",
   "metadata": {},
   "source": [
    "Opt global"
   ]
  },
  {
   "cell_type": "code",
   "execution_count": 3,
   "metadata": {},
   "outputs": [
    {
     "ename": "NameError",
     "evalue": "name 'vects' is not defined",
     "output_type": "error",
     "traceback": [
      "\u001b[0;31m---------------------------------------------------------------------------\u001b[0m",
      "\u001b[0;31mNameError\u001b[0m                                 Traceback (most recent call last)",
      "Cell \u001b[0;32mIn[3], line 1\u001b[0m\n\u001b[0;32m----> 1\u001b[0m ds \u001b[38;5;241m=\u001b[39m \u001b[38;5;28mlist\u001b[39m(vects\u001b[38;5;241m.\u001b[39mkeys())[::\u001b[38;5;241m10\u001b[39m]\n\u001b[1;32m      2\u001b[0m res \u001b[38;5;241m=\u001b[39m np\u001b[38;5;241m.\u001b[39mzeros(shape\u001b[38;5;241m=\u001b[39m(\u001b[38;5;28mlen\u001b[39m(ds),\u001b[38;5;241m3\u001b[39m))\n\u001b[1;32m      3\u001b[0m \u001b[38;5;28;01mfor\u001b[39;00m idx, d \u001b[38;5;129;01min\u001b[39;00m tqdm(\u001b[38;5;28menumerate\u001b[39m(ds), total\u001b[38;5;241m=\u001b[39m\u001b[38;5;28mlen\u001b[39m(ds)):\n",
      "\u001b[0;31mNameError\u001b[0m: name 'vects' is not defined"
     ]
    }
   ],
   "source": [
    "ds = list(vects.keys())[::10]\n",
    "res = np.zeros(shape=(len(ds),3))\n",
    "for idx, d in tqdm(enumerate(ds), total=len(ds)):\n",
    "    loss = lambda au: np.linalg.norm(au, 1)\n",
    "    vect = vects[d]\n",
    "    # Estado sin transformar\n",
    "    C = vect_to_tensor_array(basis, vect)\n",
    "    res[idx,0] = loss(C)\n",
    "    # Estado en base natural\n",
    "    rho_up = C @ np.transpose(C)\n",
    "    rho_down = np.transpose(C) @ C\n",
    "    rho_1_up = rho_m(rho_up, rho_1_arrays)\n",
    "    rho_1_down = rho_m(rho_down, rho_1_arrays)\n",
    "    V_up = natural_basis_rotation(basis, rho_1 = rho_1_up)\n",
    "    V_down = natural_basis_rotation(basis, rho_1 = rho_1_down)\n",
    "    Cn = V_up @ C @ V_down.T\n",
    "    res[idx,1] = loss(Cn)\n",
    "    # Optimizamos\n",
    "    expt_len = basis.d * (basis.d + 1) // 2\n",
    "    triu_rows, triu_cols = np.triu_indices(basis.d)\n",
    "    init_seed_up, init_seed_down = V_up[triu_rows, triu_cols], V_down[triu_rows, triu_cols]\n",
    "    init_seed = np.concatenate([init_seed_up, init_seed_down])\n",
    "    opt = scipy.optimize.minimize(opti_fun, init_seed, method='L-BFGS-B', options={'disp': True}, args=(C, basis))\n",
    "    seed = opt.x\n",
    "    seed_up, seed_down = seed[:expt_len], seed[expt_len:]\n",
    "    Vop_up, Vop_down = seed_to_rotation(seed_up), seed_to_rotation(seed_down)\n",
    "    Cop = Vop_up @ C @ Vop_down.T\n",
    "    res[idx,2] = loss(Cop)\n",
    "\n",
    "res = res.T"
   ]
  },
  {
   "cell_type": "code",
   "execution_count": null,
   "metadata": {},
   "outputs": [
    {
     "ename": "AttributeError",
     "evalue": "module 'matplotlib.pyplot' has no attribute 'pyplot'",
     "output_type": "error",
     "traceback": [
      "\u001b[0;31m---------------------------------------------------------------------------\u001b[0m",
      "\u001b[0;31mAttributeError\u001b[0m                            Traceback (most recent call last)",
      "Cell \u001b[0;32mIn[162], line 3\u001b[0m\n\u001b[1;32m      1\u001b[0m \u001b[38;5;28;01mimport\u001b[39;00m\u001b[38;5;250m \u001b[39m\u001b[38;5;21;01mmatplotlib\u001b[39;00m\u001b[38;5;21;01m.\u001b[39;00m\u001b[38;5;21;01mpyplot\u001b[39;00m\u001b[38;5;250m \u001b[39m\u001b[38;5;28;01mas\u001b[39;00m\u001b[38;5;250m \u001b[39m\u001b[38;5;21;01mplt\u001b[39;00m\n\u001b[1;32m      2\u001b[0m res \u001b[38;5;241m=\u001b[39m res\u001b[38;5;241m.\u001b[39mT\n\u001b[0;32m----> 3\u001b[0m \u001b[43mplt\u001b[49m\u001b[38;5;241;43m.\u001b[39;49m\u001b[43mpyplot\u001b[49m\u001b[38;5;241m.\u001b[39mplot(ds, res[\u001b[38;5;241m0\u001b[39m], label\u001b[38;5;241m=\u001b[39m\u001b[38;5;124m'\u001b[39m\u001b[38;5;124mEstado\u001b[39m\u001b[38;5;124m'\u001b[39m)\n\u001b[1;32m      4\u001b[0m plt\u001b[38;5;241m.\u001b[39mpyplot\u001b[38;5;241m.\u001b[39mplot(ds, res[\u001b[38;5;241m1\u001b[39m], label\u001b[38;5;241m=\u001b[39m\u001b[38;5;124m'\u001b[39m\u001b[38;5;124mBase natural\u001b[39m\u001b[38;5;124m'\u001b[39m)\n\u001b[1;32m      5\u001b[0m plt\u001b[38;5;241m.\u001b[39mpyplot\u001b[38;5;241m.\u001b[39mplot(ds, res[\u001b[38;5;241m2\u001b[39m], label\u001b[38;5;241m=\u001b[39m\u001b[38;5;124m'\u001b[39m\u001b[38;5;124mOptimizado\u001b[39m\u001b[38;5;124m'\u001b[39m)\n",
      "\u001b[0;31mAttributeError\u001b[0m: module 'matplotlib.pyplot' has no attribute 'pyplot'"
     ]
    }
   ],
   "source": [
    "import matplotlib.pyplot as plt\n",
    "res = res.T\n",
    "plt.pyplot.plot(ds, res[0], label='Estado')\n",
    "plt.pyplot.plot(ds, res[1], label='Base natural')\n",
    "plt.pyplot.plot(ds, res[2], label='Optimizado')\n",
    "plt.pyplot.legend()"
   ]
  },
  {
   "cell_type": "code",
   "execution_count": null,
   "metadata": {},
   "outputs": [],
   "source": [
    "norm1 = lambda au: np.sum(np.abs(au))\n",
    "norm2 = lambda au: np.max"
   ]
  },
  {
   "cell_type": "code",
   "execution_count": null,
   "metadata": {},
   "outputs": [],
   "source": [
    "def cost(au):\n",
    "    return np.linalg.norm(au, ord=1)"
   ]
  },
  {
   "cell_type": "code",
   "execution_count": null,
   "metadata": {},
   "outputs": [
    {
     "data": {
      "text/plain": [
       "(0.6692917507771787, 0.6030561514836338, 0.6050418638279407)"
      ]
     },
     "execution_count": 114,
     "metadata": {},
     "output_type": "execute_result"
    }
   ],
   "source": [
    "cost(C), cost(Cn), cost(Cop)"
   ]
  },
  {
   "cell_type": "code",
   "execution_count": null,
   "metadata": {},
   "outputs": [
    {
     "data": {
      "text/plain": [
       "1.0000000406850609"
      ]
     },
     "execution_count": 37,
     "metadata": {},
     "output_type": "execute_result"
    }
   ],
   "source": [
    "np.trace(rhoo_up)"
   ]
  },
  {
   "cell_type": "markdown",
   "metadata": {},
   "source": [
    "Veamos que ocurre ahora con la matriz de coeficientes"
   ]
  },
  {
   "cell_type": "code",
   "execution_count": null,
   "metadata": {},
   "outputs": [],
   "source": [
    "cost = lambda au: np.max(np.sum(np.abs(au), axis=0))"
   ]
  },
  {
   "cell_type": "code",
   "execution_count": null,
   "metadata": {},
   "outputs": [
    {
     "data": {
      "text/plain": [
       "(0.6692917507771787, 0.9191059397990166, 0.5485164931466948)"
      ]
     },
     "execution_count": 31,
     "metadata": {},
     "output_type": "execute_result"
    }
   ],
   "source": [
    "cost(C), cost(Cn), cost(Cop)"
   ]
  },
  {
   "cell_type": "code",
   "execution_count": null,
   "metadata": {},
   "outputs": [
    {
     "data": {
      "text/plain": [
       "((array([ 0,  0,  0,  0,  0,  0,  0,  0,  0,  0,  0,  0,  0,  0,  0,  0,  1,\n",
       "          1,  1,  1,  1,  1,  1,  1,  1,  1,  1,  1,  1,  1,  1,  1,  1,  2,\n",
       "          2,  2,  2,  2,  2,  2,  2,  2,  2,  2,  2,  2,  2,  2,  2,  2,  2,\n",
       "          3,  3,  3,  3,  3,  3,  3,  3,  3,  3,  3,  3,  3,  3,  4,  4,  4,\n",
       "          4,  4,  4,  4,  4,  4,  4,  4,  4,  4,  4,  4,  4,  4,  4,  5,  5,\n",
       "          5,  5,  5,  5,  5,  5,  5,  5,  5,  5,  5,  5,  5,  5,  6,  6,  6,\n",
       "          6,  6,  6,  6,  6,  6,  6,  6,  6,  6,  6,  6,  7,  7,  7,  7,  7,\n",
       "          7,  7,  7,  7,  7,  7,  7,  7,  7,  7,  7,  8,  8,  8,  8,  8,  8,\n",
       "          8,  8,  8,  8,  8,  8,  8,  8,  8,  9,  9,  9,  9,  9,  9,  9,  9,\n",
       "          9,  9,  9,  9, 10, 10, 10, 10, 10, 10, 10, 10, 10, 10, 10, 10, 10,\n",
       "         10, 11, 11, 11, 11, 11, 11, 11, 11, 11, 11, 11, 11, 11, 11, 11, 11,\n",
       "         11, 11, 12, 12, 12, 12, 12, 12, 12, 12, 12, 12, 12, 12, 12, 12, 12,\n",
       "         12, 13, 13, 13, 13, 13, 13, 13, 13, 14, 14, 14, 14, 14, 14, 14, 14,\n",
       "         14, 14, 14, 14, 15, 15, 15, 15, 15, 15, 15, 15, 15, 15, 15, 15, 15,\n",
       "         15, 15, 16, 16, 16, 16, 16, 16, 16, 16, 16, 16, 16, 16, 16, 16, 16,\n",
       "         17, 17, 17, 17, 17, 17, 17, 17, 17, 17, 17, 17, 17, 17, 17, 18, 18,\n",
       "         18, 18, 18, 18, 18, 18, 18, 18, 18, 18, 20, 20, 20, 20, 20, 20, 20,\n",
       "         20, 20, 20, 20, 20]),\n",
       "  array([ 0,  1,  2,  3,  4,  5,  6,  7,  8, 10, 11, 12, 13, 15, 16, 17,  0,\n",
       "          1,  2,  3,  4,  5,  6,  7,  9, 10, 11, 12, 13, 14, 15, 18, 20,  0,\n",
       "          1,  2,  3,  4,  5,  7,  8,  9, 10, 11, 12, 13, 14, 16, 17, 18, 20,\n",
       "          0,  1,  2,  3,  4,  5,  7,  8, 10, 11, 12, 13, 16, 17,  0,  1,  2,\n",
       "          3,  4,  5,  6,  8,  9, 10, 11, 12, 13, 14, 15, 17, 18, 20,  0,  1,\n",
       "          2,  3,  4,  5,  6,  7,  8, 10, 11, 12, 13, 15, 16, 17,  0,  1,  2,\n",
       "          4,  5,  7,  8,  9, 11, 12, 14, 16, 17, 18, 20,  0,  2,  3,  5,  6,\n",
       "          7,  8,  9, 10, 12, 14, 15, 16, 17, 18, 20,  0,  1,  3,  4,  5,  6,\n",
       "          7,  8, 10, 11, 12, 13, 15, 16, 17,  1,  2,  3,  6,  7,  9, 10, 14,\n",
       "         15, 16, 18, 20,  0,  1,  2,  3,  4,  5,  7,  8, 10, 11, 12, 13, 16,\n",
       "         17,  0,  1,  2,  3,  4,  5,  6,  8,  9, 10, 11, 12, 13, 14, 15, 17,\n",
       "         18, 20,  0,  1,  2,  3,  4,  5,  6,  7,  8, 10, 11, 12, 13, 15, 16,\n",
       "         17,  0,  1,  2,  3,  4, 10, 11, 13,  1,  2,  3,  6,  7,  9, 10, 14,\n",
       "         15, 16, 18, 20,  0,  1,  2,  4,  5,  7,  8,  9, 11, 12, 14, 16, 17,\n",
       "         18, 20,  0,  2,  3,  5,  6,  7,  8,  9, 10, 12, 14, 15, 17, 18, 20,\n",
       "          0,  1,  3,  4,  5,  6,  7,  8, 10, 11, 12, 13, 15, 16, 17,  1,  2,\n",
       "          3,  6,  7,  9, 10, 14, 15, 16, 18, 20,  1,  2,  3,  6,  7,  9, 10,\n",
       "         14, 15, 16, 18, 20])),\n",
       " (array([ 0,  0,  0,  0,  0,  0,  1,  1,  1,  1,  1,  2,  2,  2,  2,  2,  2,\n",
       "          3,  3,  3,  3,  3,  3,  3,  4,  4,  4,  4,  5,  5,  5,  5,  5,  5,\n",
       "          5,  6,  6,  7,  7,  8,  8,  9,  9, 10, 10, 10, 10, 10, 10, 10, 11,\n",
       "         11, 11, 11, 11, 12, 12, 12, 12, 12, 12, 12, 13, 13, 13, 13, 13, 15,\n",
       "         15, 15, 16, 16, 17, 17, 17, 18, 18, 18]),\n",
       "  array([ 0,  2,  3,  5, 10, 12,  1,  4, 11, 13, 18,  0,  2,  3,  5, 10, 12,\n",
       "          0,  2,  3,  5, 10, 12, 17,  1,  4, 11, 13,  0,  2,  3,  5, 10, 12,\n",
       "         15,  6,  8,  7,  9,  6,  8,  7,  9,  0,  2,  3,  5, 10, 12, 17,  1,\n",
       "          4, 11, 13, 18,  0,  2,  3,  5, 10, 12, 15,  1,  4, 11, 13, 16,  5,\n",
       "         12, 17, 13, 18,  3, 10, 15,  1, 11, 16])))"
      ]
     },
     "execution_count": 34,
     "metadata": {},
     "output_type": "execute_result"
    }
   ],
   "source": [
    "np.round(Cn,5).nonzero(), np.round(C,5).nonzero()"
   ]
  },
  {
   "cell_type": "code",
   "execution_count": null,
   "metadata": {},
   "outputs": [
    {
     "data": {
      "text/plain": [
       "(0.34206023774207855, 0.015398804494478627)"
      ]
     },
     "execution_count": 36,
     "metadata": {},
     "output_type": "execute_result"
    }
   ],
   "source": [
    "np.linalg.norm(rho_up-rhon_up), np.linalg.norm(rho_up-rhoo_up)"
   ]
  },
  {
   "cell_type": "code",
   "execution_count": null,
   "metadata": {},
   "outputs": [
    {
     "data": {
      "text/plain": [
       "array([[-9.28164239e-03, -4.46010991e-02,  1.98770844e-03,\n",
       "         1.12637076e-03,  4.83222874e-02,  2.09218992e-01,\n",
       "        -6.87161227e-06, -2.94053351e-04,  9.19167665e-05,\n",
       "        -8.81515231e-08,  9.98141372e-04,  4.44739298e-02,\n",
       "         1.92547642e-01, -2.00574483e-04,  1.30140475e-06,\n",
       "        -6.19631382e-06, -2.65156436e-04,  8.22383181e-05,\n",
       "        -7.95612501e-08,  3.86674330e-11, -1.17359343e-06],\n",
       "       [-2.02232733e-03,  1.43622010e-04,  2.09550437e-03,\n",
       "         2.12130637e-01,  4.88637137e-03, -6.34054817e-04,\n",
       "        -5.86450796e-05,  5.12685543e-06, -1.60728233e-07,\n",
       "        -6.43177712e-04,  1.95228994e-01,  4.49727492e-03,\n",
       "        -5.92258989e-04, -2.58660179e-05,  5.91937808e-04,\n",
       "        -5.40017757e-05,  4.60137264e-06, -1.41186830e-07,\n",
       "        -5.78547571e-04, -5.65948653e-07, -5.32456614e-04],\n",
       "       [-4.55575504e-02,  3.96083234e-03, -2.62208130e-04,\n",
       "         4.87186654e-03,  4.21116237e-01, -2.71044864e-02,\n",
       "         2.21344247e-06,  3.59376282e-05, -6.51758419e-06,\n",
       "         1.50449813e-05,  4.29479634e-03,  3.87578495e-01,\n",
       "        -2.49448544e-02, -1.74741341e-03, -1.39960220e-05,\n",
       "         1.98072881e-06,  3.06350892e-05, -5.71921524e-06,\n",
       "         1.35326107e-05,  1.32273926e-08,  1.25820859e-05],\n",
       "       [-4.83160260e-02, -4.21079891e-01,  4.82653961e-03,\n",
       "        -8.96995411e-05, -2.04475145e-03, -1.28124996e-02,\n",
       "         3.88146288e-06,  1.84401746e-04,  1.39982207e-03,\n",
       "        -3.78639072e-06, -2.87683290e-04, -1.97040363e-03,\n",
       "        -1.24439970e-02, -5.89105390e-06,  2.71526998e-06,\n",
       "         3.46850044e-06,  1.65310403e-04,  1.25941914e-03,\n",
       "        -3.41123008e-06, -1.25193272e-08, -2.44975806e-06],\n",
       "       [ 1.13457465e-03,  4.88622546e-03, -2.12125671e-01,\n",
       "        -1.09121453e-03,  7.07599984e-05,  3.72104343e-04,\n",
       "        -1.84087910e-05, -3.15101796e-06, -3.27171933e-05,\n",
       "        -1.64671361e-04, -1.10498758e-03,  7.23902414e-05,\n",
       "         1.23751476e-03, -6.14289107e-04,  1.51398616e-04,\n",
       "        -1.69721237e-05, -2.81067064e-06, -2.94356425e-05,\n",
       "        -1.48343875e-04, -5.35640660e-07, -1.36391497e-04],\n",
       "       [ 2.09173811e-01, -2.70955093e-02,  6.22590718e-04,\n",
       "         3.69454733e-04,  1.27398017e-02, -2.37489524e-03,\n",
       "        -1.76845222e-05, -7.56616164e-04,  1.18200007e-04,\n",
       "        -2.58884897e-07,  1.22295733e-03,  1.23626418e-02,\n",
       "        -2.22169974e-03, -5.26510747e-05,  3.37808783e-06,\n",
       "        -1.59135366e-05, -6.80845811e-04,  1.05752701e-04,\n",
       "        -2.32970671e-07, -2.03377160e-12, -3.03978990e-06],\n",
       "       [-2.93224529e-04,  3.93464308e-05, -5.63486839e-06,\n",
       "        -3.98862914e-06, -1.84482941e-04, -7.56609795e-04,\n",
       "         3.62824622e-06,  7.33359907e-05,  5.04345450e-04,\n",
       "         1.13060033e-05, -4.88757511e-06, -1.69783725e-04,\n",
       "        -6.96334054e-04,  7.65466490e-07, -1.07099584e-05,\n",
       "         3.33144691e-06,  6.73973434e-05,  4.63263652e-04,\n",
       "         1.03984037e-05,  1.44999091e-10,  9.84999598e-06],\n",
       "       [ 6.77519019e-06, -2.22517951e-06, -5.57255946e-05,\n",
       "         1.76853234e-05,  3.90062192e-06,  1.77029027e-05,\n",
       "         8.02950637e-05, -5.74020789e-06, -1.17878658e-05,\n",
       "         4.82732993e-04,  1.63041573e-05,  3.58983410e-06,\n",
       "         1.65243937e-05, -2.73917032e-08, -4.44262821e-04,\n",
       "         7.36655189e-05, -5.27390821e-06, -1.08276811e-05,\n",
       "         4.43981840e-04,  6.45979331e-09,  4.08599832e-04],\n",
       "       [-9.82409696e-05,  7.03932076e-06, -6.90053065e-07,\n",
       "         3.26835520e-05,  1.39977726e-03, -1.18197561e-04,\n",
       "        -1.17879011e-05, -5.04340441e-04,  3.23402819e-05,\n",
       "        -1.71182872e-07,  2.96731479e-05,  1.28830713e-03,\n",
       "        -1.08782106e-04, -5.80875046e-06,  2.25047107e-06,\n",
       "        -1.08409511e-05, -4.63824985e-04,  2.98650656e-05,\n",
       "        -1.57429573e-07,  8.78111438e-13, -2.06968269e-06],\n",
       "       [-7.30437557e-07, -1.50334044e-05, -6.43191745e-04,\n",
       "         1.64687986e-04, -3.85915965e-06,  2.20838877e-07,\n",
       "         4.82652700e-04, -1.11669265e-05, -1.63286936e-09,\n",
       "        -2.44433132e-05,  1.51376299e-04, -3.53675857e-06,\n",
       "         2.87229741e-06, -2.35411356e-06,  2.37585395e-05,\n",
       "         4.43372717e-04, -1.02584332e-05, -1.50945269e-09,\n",
       "        -2.23770712e-05,  5.60271584e-08, -2.17613758e-05],\n",
       "       [-4.45068569e-02, -3.87731780e-01,  4.45331855e-03,\n",
       "        -8.25556772e-05, -1.77111452e-03, -1.15669848e-02,\n",
       "         3.54380218e-06,  1.68496653e-04,  1.28872715e-03,\n",
       "        -3.48078283e-06, -2.55553873e-04, -1.53136887e-03,\n",
       "        -9.95555602e-03,  2.29706690e-05,  2.50928895e-06,\n",
       "         3.16653059e-06,  1.51045573e-04,  1.15946518e-03,\n",
       "        -3.13602004e-06, -1.15225869e-08, -2.26378460e-06],\n",
       "       [ 1.04397869e-03,  4.49828092e-03, -1.95232935e-01,\n",
       "        -1.11247440e-03,  7.39778554e-05,  3.51982863e-04,\n",
       "        -1.69425956e-05, -2.89147731e-06, -3.01141396e-05,\n",
       "        -1.51374384e-04, -8.99495303e-04,  6.00039890e-05,\n",
       "         1.11756180e-03,  6.66606850e-04,  1.39540697e-04,\n",
       "        -1.56203617e-05, -2.57909215e-06, -2.70936609e-05,\n",
       "        -1.36369929e-04, -4.92984860e-07, -1.25704004e-04],\n",
       "       [ 1.92705158e-01, -2.49541662e-02,  5.74196079e-04,\n",
       "         3.29253401e-04,  1.06207420e-02, -2.10735276e-03,\n",
       "        -1.62838508e-05, -6.96511504e-04,  1.08814069e-04,\n",
       "        -2.83760912e-07,  1.08627294e-03,  9.07133845e-03,\n",
       "        -1.90424592e-03, -4.43130083e-05,  3.15155883e-06,\n",
       "        -1.46530492e-05, -6.26753163e-04,  9.73547009e-05,\n",
       "        -2.55325135e-07, -3.81751657e-11, -2.83589398e-06],\n",
       "       [-6.20129906e-06, -9.17401502e-06,  8.80018594e-04,\n",
       "        -6.09262217e-04,  1.38285701e-05, -1.20416282e-06,\n",
       "         7.63274029e-08,  1.89017382e-08,  9.89282424e-08,\n",
       "         3.04920379e-06,  6.71492220e-04, -1.58149435e-05,\n",
       "        -4.80892653e-06, -5.97945858e-05,  1.94231706e-06,\n",
       "         7.03439222e-08,  1.67970151e-08,  8.90040335e-08,\n",
       "         2.71659466e-06,  2.22368252e-09, -1.71681227e-06],\n",
       "       [ 6.52703585e-07,  1.38444038e-05,  5.92201812e-04,\n",
       "        -1.51452682e-04,  3.51479625e-06, -2.56696057e-07,\n",
       "        -4.44549355e-04,  1.03050798e-05,  3.71367219e-08,\n",
       "         2.17216988e-05, -1.39599212e-04,  3.25119536e-06,\n",
       "        -2.69369915e-06, -2.58108257e-06, -1.86884203e-05,\n",
       "        -4.08369968e-04,  9.46673924e-06,  3.41139416e-08,\n",
       "         1.98880671e-05, -5.16113825e-08,  1.70990611e-05],\n",
       "       [-2.64413341e-04,  3.37037304e-05, -5.05951231e-06,\n",
       "        -3.56537981e-06, -1.65383629e-04, -6.80840603e-04,\n",
       "         3.33142841e-06,  6.73974140e-05,  4.63829590e-04,\n",
       "         1.03858844e-05, -4.37849484e-06, -1.52206154e-04,\n",
       "        -6.26601033e-04,  6.86221276e-07, -9.83847438e-06,\n",
       "         3.15145251e-06,  6.38717452e-05,  4.39224835e-04,\n",
       "         9.84797272e-06,  1.75353449e-10,  9.32877278e-06],\n",
       "       [ 6.10785068e-06, -1.99128981e-06, -5.13749796e-05,\n",
       "         1.63203829e-05,  3.48567723e-06,  1.59305227e-05,\n",
       "         7.36631480e-05, -5.27147185e-06, -1.08409031e-05,\n",
       "         4.43446200e-04,  1.50452623e-05,  3.20793614e-06,\n",
       "         1.48750962e-05, -2.43984451e-08, -4.08106859e-04,\n",
       "         6.95665620e-05, -4.99105162e-06, -1.02658145e-05,\n",
       "         4.20479215e-04,  7.63642798e-09,  3.86970147e-04],\n",
       "       [-8.79288147e-05,  6.18613124e-06, -6.14766044e-07,\n",
       "         2.94055366e-05,  1.25937893e-03, -1.05750528e-04,\n",
       "        -1.08277183e-05, -4.63259037e-04,  2.98650636e-05,\n",
       "        -1.57233364e-07,  2.66989625e-05,  1.15908927e-03,\n",
       "        -9.73265926e-05, -5.22614116e-06,  2.06715838e-06,\n",
       "        -1.02658809e-05, -4.39220459e-04,  2.85396791e-05,\n",
       "        -1.49073351e-07,  9.18223285e-13, -1.95989282e-06],\n",
       "       [-6.57923184e-07, -1.35227844e-05, -5.78560597e-04,\n",
       "         1.48358850e-04, -3.47637724e-06,  1.98647216e-07,\n",
       "         4.43908361e-04, -1.02709514e-05, -1.50568003e-09,\n",
       "        -2.23772533e-05,  1.36371801e-04, -3.18619094e-06,\n",
       "         2.58367108e-06, -2.09042978e-06,  2.17615670e-05,\n",
       "         4.20410046e-04, -9.72775232e-06, -1.43481973e-09,\n",
       "        -2.10705105e-05,  8.65476646e-08, -2.05088293e-05],\n",
       "       [ 2.38286182e-09,  1.32263313e-08,  5.65935913e-07,\n",
       "        -5.35641007e-07,  1.25196337e-08, -1.94733912e-10,\n",
       "        -6.71020311e-09,  3.98034671e-10,  5.87691161e-12,\n",
       "        -5.60259101e-08, -4.92976638e-07,  1.15222704e-08,\n",
       "        -2.53143061e-09, -3.93341533e-11,  5.15357282e-08,\n",
       "        -8.02051218e-09,  5.64960310e-10,  6.49293832e-12,\n",
       "        -8.65452440e-08,  3.33475014e-08, -7.96245527e-08],\n",
       "       [-5.87866299e-07, -1.24532604e-05, -5.32699567e-04,\n",
       "         1.36442192e-04, -3.16663725e-06,  2.30919160e-07,\n",
       "         4.08862943e-04, -9.47825066e-06, -3.41540662e-08,\n",
       "        -1.98904428e-05,  1.25758413e-04, -2.92889022e-06,\n",
       "         2.42306572e-06,  2.29227553e-06,  1.71013007e-05,\n",
       "         3.87218942e-04, -8.97702054e-06, -3.23440051e-08,\n",
       "        -1.87346381e-05,  7.97018918e-08, -1.60886529e-05]])"
      ]
     },
     "execution_count": 38,
     "metadata": {},
     "output_type": "execute_result"
    }
   ],
   "source": [
    "Cn"
   ]
  },
  {
   "cell_type": "code",
   "execution_count": null,
   "metadata": {},
   "outputs": [
    {
     "data": {
      "text/plain": [
       "array([[ 0.086,  0.001,  0.024, -0.016, -0.   ,  0.001,  0.   ,  0.   ,\n",
       "        -0.   ,  0.   , -0.   ,  0.   , -0.   , -0.   ,  0.   , -0.   ,\n",
       "        -0.   ,  0.   ,  0.   , -0.   ,  0.   ],\n",
       "       [ 0.001,  0.083,  0.001, -0.007,  0.001, -0.   , -0.   , -0.   ,\n",
       "         0.   ,  0.   ,  0.   ,  0.   ,  0.   , -0.   , -0.   ,  0.   ,\n",
       "         0.   , -0.   , -0.   ,  0.   , -0.   ],\n",
       "       [ 0.024,  0.001,  0.332,  0.   , -0.002,  0.002,  0.   ,  0.   ,\n",
       "        -0.   ,  0.   , -0.   , -0.   ,  0.   ,  0.   , -0.   , -0.   ,\n",
       "         0.   ,  0.   , -0.   ,  0.   , -0.   ],\n",
       "       [-0.016, -0.007,  0.   ,  0.333,  0.005, -0.   ,  0.   , -0.   ,\n",
       "        -0.   ,  0.   ,  0.   , -0.   , -0.   ,  0.   ,  0.   ,  0.   ,\n",
       "         0.   ,  0.   , -0.   , -0.   , -0.   ],\n",
       "       [-0.   ,  0.001, -0.002,  0.005,  0.083, -0.001, -0.   ,  0.   ,\n",
       "        -0.   , -0.   ,  0.   ,  0.   ,  0.   , -0.   , -0.   ,  0.   ,\n",
       "         0.   , -0.   ,  0.   , -0.   ,  0.   ],\n",
       "       [ 0.001, -0.   ,  0.002, -0.   , -0.001,  0.083, -0.   ,  0.   ,\n",
       "         0.   , -0.   ,  0.   , -0.   ,  0.   ,  0.   ,  0.   ,  0.   ,\n",
       "         0.   ,  0.   , -0.   , -0.   ,  0.   ],\n",
       "       [ 0.   , -0.   ,  0.   ,  0.   , -0.   , -0.   ,  0.   ,  0.   ,\n",
       "        -0.   , -0.   , -0.   , -0.   , -0.   ,  0.   ,  0.   , -0.   ,\n",
       "        -0.   ,  0.   ,  0.   , -0.   ,  0.   ],\n",
       "       [ 0.   , -0.   ,  0.   , -0.   ,  0.   ,  0.   ,  0.   ,  0.   ,\n",
       "         0.   , -0.   , -0.   , -0.   , -0.   ,  0.   ,  0.   , -0.   ,\n",
       "        -0.   ,  0.   ,  0.   ,  0.   ,  0.   ],\n",
       "       [-0.   ,  0.   , -0.   , -0.   , -0.   ,  0.   , -0.   ,  0.   ,\n",
       "         0.   , -0.   ,  0.   ,  0.   , -0.   ,  0.   ,  0.   ,  0.   ,\n",
       "        -0.   , -0.   , -0.   , -0.   ,  0.   ],\n",
       "       [ 0.   ,  0.   ,  0.   ,  0.   , -0.   , -0.   , -0.   , -0.   ,\n",
       "        -0.   ,  0.   ,  0.   ,  0.   ,  0.   , -0.   , -0.   ,  0.   ,\n",
       "         0.   , -0.   , -0.   ,  0.   , -0.   ],\n",
       "       [-0.   ,  0.   , -0.   ,  0.   ,  0.   ,  0.   , -0.   , -0.   ,\n",
       "         0.   ,  0.   ,  0.   ,  0.   , -0.   , -0.   , -0.   ,  0.   ,\n",
       "         0.   , -0.   , -0.   ,  0.   , -0.   ],\n",
       "       [ 0.   ,  0.   , -0.   , -0.   ,  0.   , -0.   , -0.   , -0.   ,\n",
       "         0.   ,  0.   ,  0.   ,  0.   ,  0.   , -0.   ,  0.   ,  0.   ,\n",
       "         0.   , -0.   , -0.   ,  0.   ,  0.   ],\n",
       "       [-0.   ,  0.   ,  0.   , -0.   ,  0.   ,  0.   , -0.   , -0.   ,\n",
       "        -0.   ,  0.   , -0.   ,  0.   ,  0.   , -0.   ,  0.   ,  0.   ,\n",
       "         0.   ,  0.   , -0.   ,  0.   , -0.   ],\n",
       "       [-0.   , -0.   ,  0.   ,  0.   , -0.   ,  0.   ,  0.   ,  0.   ,\n",
       "         0.   , -0.   , -0.   , -0.   , -0.   ,  0.   ,  0.   , -0.   ,\n",
       "        -0.   ,  0.   ,  0.   , -0.   ,  0.   ],\n",
       "       [ 0.   , -0.   , -0.   ,  0.   , -0.   ,  0.   ,  0.   ,  0.   ,\n",
       "         0.   , -0.   , -0.   ,  0.   ,  0.   ,  0.   ,  0.   , -0.   ,\n",
       "         0.   ,  0.   ,  0.   ,  0.   ,  0.   ],\n",
       "       [-0.   ,  0.   , -0.   ,  0.   ,  0.   ,  0.   , -0.   , -0.   ,\n",
       "         0.   ,  0.   ,  0.   ,  0.   ,  0.   , -0.   , -0.   ,  0.   ,\n",
       "         0.   , -0.   , -0.   ,  0.   , -0.   ],\n",
       "       [-0.   ,  0.   ,  0.   ,  0.   ,  0.   ,  0.   , -0.   , -0.   ,\n",
       "        -0.   ,  0.   ,  0.   ,  0.   ,  0.   , -0.   ,  0.   ,  0.   ,\n",
       "         0.   ,  0.   , -0.   ,  0.   , -0.   ],\n",
       "       [ 0.   , -0.   ,  0.   ,  0.   , -0.   ,  0.   ,  0.   ,  0.   ,\n",
       "        -0.   , -0.   , -0.   , -0.   ,  0.   ,  0.   ,  0.   , -0.   ,\n",
       "         0.   ,  0.   , -0.   , -0.   ,  0.   ],\n",
       "       [ 0.   , -0.   , -0.   , -0.   ,  0.   , -0.   ,  0.   ,  0.   ,\n",
       "        -0.   , -0.   , -0.   , -0.   , -0.   ,  0.   ,  0.   , -0.   ,\n",
       "        -0.   , -0.   ,  0.   , -0.   ,  0.   ],\n",
       "       [-0.   ,  0.   ,  0.   , -0.   , -0.   , -0.   , -0.   ,  0.   ,\n",
       "        -0.   ,  0.   ,  0.   ,  0.   ,  0.   , -0.   ,  0.   ,  0.   ,\n",
       "         0.   , -0.   , -0.   ,  0.   , -0.   ],\n",
       "       [ 0.   , -0.   , -0.   , -0.   ,  0.   ,  0.   ,  0.   ,  0.   ,\n",
       "         0.   , -0.   , -0.   ,  0.   , -0.   ,  0.   ,  0.   , -0.   ,\n",
       "        -0.   ,  0.   ,  0.   , -0.   ,  0.   ]])"
      ]
     },
     "execution_count": 27,
     "metadata": {},
     "output_type": "execute_result"
    }
   ],
   "source": [
    "np.round(rhon_up,3)"
   ]
  },
  {
   "cell_type": "markdown",
   "metadata": {},
   "source": []
  },
  {
   "cell_type": "code",
   "execution_count": null,
   "metadata": {},
   "outputs": [
    {
     "name": "stderr",
     "output_type": "stream",
     "text": [
      "100%|██████████| 8/8 [00:00<00:00, 44.42it/s]\n",
      "100%|██████████| 21/21 [00:00<00:00, 25.65it/s]\n",
      "100%|██████████| 21/21 [00:00<00:00, 23.98it/s]\n"
     ]
    },
    {
     "data": {
      "text/plain": [
       "(array([0.47487306, 0.52513204, 0.4806496 , 0.51935319, 0.99999489,\n",
       "        0.99999739, 1.00000004]),\n",
       " array([0.47487306, 0.52513204, 0.4806496 , 0.51935319, 0.99999489,\n",
       "        0.99999739, 1.00000004]))"
      ]
     },
     "execution_count": 12,
     "metadata": {},
     "output_type": "execute_result"
    }
   ],
   "source": [
    "\"\"\"\n",
    "Algunos casos de ejemplo para ver de como funciona la rotación de bases\n",
    "\"\"\"\n",
    "# Construimos la base reduciuda y la matriz C\n",
    "C = vect_to_tensor_array(basis, vect)\n",
    "# Calculamos las matrices de densidad reducidas UP, DOWN\n",
    "rho_up = C @ np.transpose(C)\n",
    "rho_down = np.transpose(C) @ C\n",
    "# Calculo matrices densidad 1 cuerpo\n",
    "rho_1_arrays = rho_m_gen(basis, 1)\n",
    "rho_1_up = rho_m(rho_up, rho_1_arrays)\n",
    "rho_1_down = rho_m(rho_down, rho_1_arrays)\n",
    "\n",
    "V_up = natural_basis_rotation(basis, rho_1_up, rho_up)\n",
    "rhot_up = V_up @ rho_up @ V_up.T\n",
    "V_down = natural_basis_rotation(basis, rho_1_down, rho_down)\n",
    "rhot_down = V_down @ rho_down @ V_down.T\n",
    "\n",
    "np.linalg.eigvals(rho_m(rhot_up, rho_1_arrays).todense()), np.linalg.eigvals(rho_m(rhot_down, rho_1_arrays).todense())"
   ]
  },
  {
   "cell_type": "code",
   "execution_count": 33,
   "metadata": {},
   "outputs": [
    {
     "data": {
      "text/plain": [
       "10"
      ]
     },
     "execution_count": 33,
     "metadata": {},
     "output_type": "execute_result"
    }
   ],
   "source": [
    "basis_c.m"
   ]
  },
  {
   "cell_type": "code",
   "execution_count": null,
   "metadata": {},
   "outputs": [
    {
     "name": "stdout",
     "output_type": "stream",
     "text": [
      "  message: STOP: TOTAL NO. of f AND g EVALUATIONS EXCEEDS LIMIT\n",
      "  success: False\n",
      "   status: 1\n",
      "      fun: 0.033046434440661125\n",
      "        x: [-3.375e-09 -6.560e-09 ... -2.341e-06 -2.501e-01]\n",
      "      nit: 6\n",
      "      jac: [ 2.845e-08 -2.429e-08 ... -3.317e-05 -3.462e-03]\n",
      "     nfev: 16570\n",
      "     njev: 10\n",
      " hess_inv: <1656x1656 LbfgsInvHessProduct with dtype=float64>\n",
      "[-3.37476985e-09 -6.55962993e-09 -2.46507721e-09 ... -3.19263831e-09\n",
      " -2.34107673e-06 -2.50086415e-01]\n",
      "0.03302971629150185\n",
      "[0.         0.         0.         0.         0.         0.\n",
      " 0.         0.         0.         0.         0.         0.\n",
      " 0.11111111 0.11111111 0.11111111 0.11111111 0.11111111 0.11111111\n",
      " 0.11111111 0.11111111 0.11111111 0.11111111 0.11111111 0.11111111\n",
      " 0.11111111 0.11111111 0.11111111 0.11111111 0.11111111 0.11111111\n",
      " 0.11111111 0.11111111 0.11111111 0.11111111 0.11111111 0.11111111\n",
      " 0.11111111 0.11111111 0.11111111 0.33333333 0.33333333 0.33333333\n",
      " 0.33333333 0.33333333 0.33333333 0.33333333 0.33333333 0.33333333\n",
      " 0.33333333 0.33333333 0.33333333 0.33333333 0.33333333 0.33333333\n",
      " 0.33333333 0.33333333 0.33333333 0.5        0.5        0.5\n",
      " 0.5        0.5        0.5        0.5        0.5        0.5\n",
      " 0.5        0.5        0.5        0.5        0.5        0.5\n",
      " 0.5        0.5        0.5        0.5        0.5        0.5\n",
      " 0.5        0.5        0.5        0.5        0.5        0.5\n",
      " 0.5        0.5        0.5        0.5        0.5        0.5\n",
      " 0.5        0.5        0.5        0.5        0.5        0.5\n",
      " 0.5        0.5        0.5        0.5        0.5        0.5\n",
      " 0.5        0.5        0.5        0.66666667 0.66666667 0.66666667\n",
      " 0.66666667 0.66666667 0.66666667 0.66666667 0.66666667 0.66666667\n",
      " 1.         1.         1.         1.         1.         1.        ]\n"
     ]
    },
    {
     "data": {
      "text/plain": [
       "array([0.  , 0.  , 0.  , 0.  , 0.  , 0.  , 0.  , 0.  , 0.  , 0.  , 0.  ,\n",
       "       0.  , 0.11, 0.11, 0.11, 0.11, 0.11, 0.11, 0.11, 0.11, 0.11, 0.11,\n",
       "       0.11, 0.11, 0.11, 0.11, 0.11, 0.11, 0.11, 0.11, 0.11, 0.11, 0.11,\n",
       "       0.11, 0.11, 0.11, 0.11, 0.11, 0.11, 0.33, 0.33, 0.33, 0.33, 0.33,\n",
       "       0.33, 0.33, 0.33, 0.33, 0.33, 0.33, 0.33, 0.33, 0.33, 0.33, 0.33,\n",
       "       0.33, 0.33, 0.5 , 0.5 , 0.5 , 0.5 , 0.5 , 0.5 , 0.5 , 0.5 , 0.5 ,\n",
       "       0.5 , 0.5 , 0.5 , 0.5 , 0.5 , 0.5 , 0.5 , 0.5 , 0.5 , 0.5 , 0.5 ,\n",
       "       0.5 , 0.5 , 0.5 , 0.5 , 0.5 , 0.5 , 0.5 , 0.5 , 0.5 , 0.5 , 0.5 ,\n",
       "       0.5 , 0.5 , 0.5 , 0.5 , 0.5 , 0.5 , 0.5 , 0.5 , 0.5 , 0.5 , 0.5 ,\n",
       "       0.5 , 0.5 , 0.5 , 0.5 , 0.5 , 0.5 , 0.67, 0.67, 0.67, 0.67, 0.67,\n",
       "       0.67, 0.67, 0.67, 0.67, 1.  , 1.  , 1.  , 1.  , 1.  , 1.  ])"
      ]
     },
     "execution_count": 73,
     "metadata": {},
     "output_type": "execute_result"
    }
   ],
   "source": [
    "print(opt)\n",
    "print(opt.x)\n",
    "print(sparsity_error(opt.x, k=k))\n",
    "print(rho_2_obj)\n",
    "np.round(r_eig(rho_m(opt.x, rho_2_arrays)),2)"
   ]
  },
  {
   "cell_type": "code",
   "execution_count": null,
   "metadata": {},
   "outputs": [
    {
     "name": "stdout",
     "output_type": "stream",
     "text": [
      "15.985149014125556\n",
      "15.977994228992863\n",
      "145.67794611307684\n",
      "144.23635285020111\n",
      "36.0667153166155\n",
      "36.06669576174053\n",
      "144.236519674107\n",
      "145.67809058988465\n",
      "15.940732217777308\n",
      "15.92062248719232\n",
      "36.06161200056504\n",
      "144.19110686510734\n",
      "145.6825136168376\n",
      "144.3651909188651\n",
      "36.137913817300415\n",
      "144.15515590265179\n",
      "36.08996734303805\n",
      "146.12453205723767\n",
      "145.9487386480123\n",
      "36.0045807486866\n",
      "143.95252252055505\n",
      "145.46009050066652\n",
      "145.68262967629167\n",
      "144.19109509086093\n",
      "36.06156842879171\n",
      "146.12428332738412\n",
      "145.94902938020775\n",
      "36.13796198870655\n",
      "144.36575578324243\n",
      "36.089955665595035\n",
      "144.15460190992823\n",
      "145.46007040730746\n",
      "143.95261481327165\n",
      "36.00458940655681\n",
      "15.941719440781728\n",
      "15.91950923819659\n",
      "145.45631237154984\n",
      "143.99620720608377\n",
      "36.00963579334049\n",
      "36.009636612591606\n",
      "143.99642927360614\n",
      "145.45649058176977\n",
      "15.951017099193605\n",
      "15.988944628712272\n"
     ]
    },
    {
     "data": {
      "text/plain": [
       "(array([0.49947646, 0.49947646, 0.49947646, 0.49947646, 0.4995237 ,\n",
       "        0.4995237 , 0.4995237 , 0.4995237 , 0.49957093, 0.49957093,\n",
       "        0.49957093, 0.49957093, 0.99904739, 0.99904739, 0.99904739,\n",
       "        0.99904739]),\n",
       " array([0.5, 0.5, 0.5, 0.5, 0.5, 0.5, 0.5, 0.5, 0.5, 0.5, 0.5, 0.5, 1. ,\n",
       "        1. , 1. , 1. ]))"
      ]
     },
     "execution_count": 94,
     "metadata": {},
     "output_type": "execute_result"
    }
   ],
   "source": [
    "final_res = of.FermionOperator.zero()\n",
    "\n",
    "tol = 1e-3\n",
    "for idx, coord in enumerate(opt.x):\n",
    "    final_res += basis_pro.base[idx] * coord if np.abs(coord) > tol else 0\n",
    "    if np.abs(coord) > tol:\n",
    "        print((1/np.abs(coord)**2))\n",
    "\n",
    "#final_res, unique_ele(final_res)\n",
    "res_round = np.sum([basis_pro.base[idx] * 1/np.sqrt(np.round(1/coord**2)) for idx, coord in enumerate(opt.x) if np.abs(coord) > tol])\n",
    "vect_round = op_to_rep(basis_pro, res_round)\n",
    "r_eig(rho_m(vect_round, rho_1_arrays)), rho_1_obj\n"
   ]
  },
  {
   "cell_type": "markdown",
   "metadata": {},
   "source": [
    "#### Testing"
   ]
  },
  {
   "cell_type": "markdown",
   "metadata": {},
   "source": [
    "Verificamos que los eig de rho1 se preservan"
   ]
  },
  {
   "cell_type": "code",
   "execution_count": null,
   "metadata": {},
   "outputs": [
    {
     "name": "stderr",
     "output_type": "stream",
     "text": [
      "100%|██████████████████████████████████████████████████████████████████████████████████████████████████████████████████████████████████████████████████████████████████████████████| 32/32 [00:01<00:00, 25.64it/s]\n",
      "100%|██████████████████████████████████████████████████████████████████████████████████████████████████████████████████████████████████████████████████████████████████████████| 127/127 [00:00<00:00, 2438.26it/s]\n",
      "100%|██████████████████████████████████████████████████████████████████████████████████████████████████████████████████████████████████████████████████████████████████████████████| 32/32 [00:49<00:00,  1.54s/it]\n"
     ]
    },
    {
     "name": "stdout",
     "output_type": "stream",
     "text": [
      "10.000000000000002 10.000000406850612\n",
      "[0.         0.         0.47487306 0.47487306 0.4806496  0.4806496\n",
      " 0.51935319 0.51935319 0.52513204 0.52513204 0.99999489 0.99999489\n",
      " 0.99999739 0.99999739 1.00000004 1.00000004] [0.         0.         0.47487306 0.47487306 0.48064955 0.48064955\n",
      " 0.51935319 0.51935319 0.525132   0.525132   0.99999485 0.99999485\n",
      " 0.99999735 0.99999735 1.         1.        ]\n"
     ]
    }
   ],
   "source": [
    "# Cálculo de base natural\n",
    "rho_1_arrays = rho_m_gen(basis, 1)\n",
    "rho_1 = rho_m(vect, rho_1_arrays).todense()\n",
    "evals, evects = scipy.linalg.eigh(rho_1)\n",
    "C = evects\n",
    "\n",
    "res, vect_op_ft = natural_basis_rotation(basis, C, vect)\n",
    "\n",
    "ext_basis = FixedBasis(basis.d, basis.m)\n",
    "rho_1_arrays_n = rho_m_gen(ext_basis, 1, num_workers=32)\n",
    "rho_1_n = rho_m(res, rho_1_arrays_n).todense()\n",
    "print(np.trace(rho_1_n), np.trace(rho_1))\n",
    "\n",
    "evv = lambda vv: np.sort(np.real(np.linalg.eigvals(vv)))\n",
    "print(evv(rho_1), evv(rho_1_n))\n",
    "\n",
    "rep_to_op = lambda vect: np.sum([vect[i] * basis.base[i] for i in range(len(vect))])\n",
    "#unique_ele(vect_op_ft), unique_ele(rep_to_op(vect))"
   ]
  },
  {
   "cell_type": "markdown",
   "metadata": {},
   "source": [
    "Verificamos que la composición, es la identidad"
   ]
  },
  {
   "cell_type": "code",
   "execution_count": null,
   "metadata": {},
   "outputs": [
    {
     "data": {
      "text/plain": [
       "(-0.009493221505521588 [11^ 10^ 9^ 8^ 7^ 4^ 3^ 2^ 1^ 0^] +\n",
       " 0.06567915392863352 [11^ 10^ 9^ 8^ 7^ 5^ 4^ 2^ 1^ 0^] +\n",
       " -0.00039479040463999686 [11^ 10^ 9^ 8^ 7^ 5^ 4^ 3^ 2^ 0^] +\n",
       " -3.372243029427183e-06 [11^ 10^ 9^ 8^ 7^ 5^ 4^ 3^ 2^ 1^] +\n",
       " -0.046493134167591176 [11^ 10^ 9^ 8^ 7^ 6^ 3^ 2^ 1^ 0^] +\n",
       " -0.28426333153569405 [11^ 10^ 9^ 8^ 7^ 6^ 5^ 2^ 1^ 0^] +\n",
       " -0.00013174919476567257 [11^ 10^ 9^ 8^ 7^ 6^ 5^ 3^ 2^ 0^] +\n",
       " 3.4219639201432875e-07 [11^ 10^ 9^ 8^ 7^ 6^ 5^ 3^ 2^ 1^] +\n",
       " 0.002101619231354521 [12^ 10^ 9^ 8^ 7^ 5^ 3^ 2^ 1^ 0^] +\n",
       " 0.2881444085777637 [12^ 10^ 9^ 8^ 7^ 6^ 4^ 2^ 1^ 0^] +\n",
       " -7.974636812387609e-05 [12^ 10^ 9^ 8^ 7^ 6^ 4^ 3^ 2^ 0^] +\n",
       " -2.402101031541447e-06 [12^ 10^ 9^ 8^ 7^ 6^ 4^ 3^ 2^ 1^] +\n",
       " 0.0011760974915812092 [12^ 10^ 9^ 8^ 7^ 6^ 5^ 4^ 2^ 0^] +\n",
       " 8.012654141343571e-06 [12^ 10^ 9^ 8^ 7^ 6^ 5^ 4^ 2^ 1^] +\n",
       " 5.654427524408164e-07 [12^ 10^ 9^ 8^ 7^ 6^ 5^ 4^ 3^ 2^] +\n",
       " 0.06567916523926123 [12^ 11^ 9^ 8^ 7^ 4^ 3^ 2^ 1^ 0^] +\n",
       " 0.00389332162644885 [12^ 11^ 9^ 8^ 7^ 5^ 4^ 2^ 1^ 0^] +\n",
       " -0.0003369502923659103 [12^ 11^ 9^ 8^ 7^ 5^ 4^ 3^ 2^ 0^] +\n",
       " -1.75055379165451e-06 [12^ 11^ 9^ 8^ 7^ 5^ 4^ 3^ 2^ 1^] +\n",
       " 0.5724077497971604 [12^ 11^ 9^ 8^ 7^ 6^ 3^ 2^ 1^ 0^] +\n",
       " -0.02439543126200667 [12^ 11^ 9^ 8^ 7^ 6^ 5^ 2^ 1^ 0^] +\n",
       " 0.00255967397882498 [12^ 11^ 9^ 8^ 7^ 6^ 5^ 3^ 2^ 0^] +\n",
       " 1.777343800262207e-05 [12^ 11^ 9^ 8^ 7^ 6^ 5^ 3^ 2^ 1^] +\n",
       " 9.762037787089551e-05 [12^ 11^ 10^ 8^ 7^ 5^ 4^ 3^ 1^ 0^] +\n",
       " -0.0006986690875479003 [12^ 11^ 10^ 8^ 7^ 6^ 5^ 3^ 1^ 0^] +\n",
       " -0.0003947960250705063 [12^ 11^ 10^ 9^ 7^ 4^ 3^ 2^ 1^ 0^] +\n",
       " -0.00033694771187436754 [12^ 11^ 10^ 9^ 7^ 5^ 4^ 2^ 1^ 0^] +\n",
       " 0.00013639335463226627 [12^ 11^ 10^ 9^ 7^ 5^ 4^ 3^ 2^ 0^] +\n",
       " 3.2108720159839624e-06 [12^ 11^ 10^ 9^ 7^ 5^ 4^ 3^ 2^ 1^] +\n",
       " 5.206165734614755e-05 [12^ 11^ 10^ 9^ 7^ 6^ 3^ 2^ 1^ 0^] +\n",
       " 0.001383693636976565 [12^ 11^ 10^ 9^ 7^ 6^ 5^ 2^ 1^ 0^] +\n",
       " -0.0009362526476775275 [12^ 11^ 10^ 9^ 7^ 6^ 5^ 3^ 2^ 0^] +\n",
       " -2.2599209951709343e-05 [12^ 11^ 10^ 9^ 7^ 6^ 5^ 3^ 2^ 1^] +\n",
       " -3.372386179616739e-06 [12^ 11^ 10^ 9^ 8^ 4^ 3^ 2^ 1^ 0^] +\n",
       " -1.759127773833194e-06 [12^ 11^ 10^ 9^ 8^ 5^ 4^ 2^ 1^ 0^] +\n",
       " 3.226061363944706e-06 [12^ 11^ 10^ 9^ 8^ 5^ 4^ 3^ 2^ 0^] +\n",
       " 1.1875960552956063e-06 [12^ 11^ 10^ 9^ 8^ 5^ 4^ 3^ 2^ 1^] +\n",
       " -2.7509045511725265e-06 [12^ 11^ 10^ 9^ 8^ 6^ 3^ 2^ 1^ 0^] +\n",
       " 9.760386787994106e-06 [12^ 11^ 10^ 9^ 8^ 6^ 5^ 2^ 1^ 0^] +\n",
       " -2.3117462036199813e-05 [12^ 11^ 10^ 9^ 8^ 6^ 5^ 3^ 2^ 0^] +\n",
       " -7.620132373566919e-06 [12^ 11^ 10^ 9^ 8^ 6^ 5^ 3^ 2^ 1^] +\n",
       " -0.0464931271366684 [13^ 10^ 9^ 8^ 7^ 4^ 3^ 2^ 1^ 0^] +\n",
       " 0.5724077368793217 [13^ 10^ 9^ 8^ 7^ 5^ 4^ 2^ 1^ 0^] +\n",
       " 5.207807024802527e-05 [13^ 10^ 9^ 8^ 7^ 5^ 4^ 3^ 2^ 0^] +\n",
       " -2.7504953789392216e-06 [13^ 10^ 9^ 8^ 7^ 5^ 4^ 3^ 2^ 1^] +\n",
       " 0.004085602120407928 [13^ 10^ 9^ 8^ 7^ 6^ 3^ 2^ 1^ 0^] +\n",
       " 0.03683262675133955 [13^ 10^ 9^ 8^ 7^ 6^ 5^ 2^ 1^ 0^] +\n",
       " 9.411214345831224e-06 [13^ 10^ 9^ 8^ 7^ 6^ 5^ 3^ 2^ 0^] +\n",
       " -1.621050642566468e-07 [13^ 10^ 9^ 8^ 7^ 6^ 5^ 3^ 2^ 1^] +\n",
       " 0.2881444085777582 [13^ 11^ 9^ 8^ 7^ 5^ 3^ 2^ 1^ 0^] +\n",
       " 0.002116518897625553 [13^ 11^ 9^ 8^ 7^ 6^ 4^ 2^ 1^ 0^] +\n",
       " 3.389123583993365e-05 [13^ 11^ 9^ 8^ 7^ 6^ 4^ 3^ 2^ 0^] +\n",
       " 6.532447280964523e-07 [13^ 11^ 9^ 8^ 7^ 6^ 4^ 3^ 2^ 1^] +\n",
       " -0.0004093051731866229 [13^ 11^ 9^ 8^ 7^ 6^ 5^ 4^ 2^ 0^] +\n",
       " -3.07397423734841e-06 [13^ 11^ 9^ 8^ 7^ 6^ 5^ 4^ 2^ 1^] +\n",
       " -7.273460866611064e-07 [13^ 11^ 9^ 8^ 7^ 6^ 5^ 4^ 3^ 2^] +\n",
       " 0.00012049678988607759 [13^ 11^ 10^ 8^ 7^ 6^ 4^ 3^ 1^ 0^] +\n",
       " -0.0009064974323502919 [13^ 11^ 10^ 8^ 7^ 6^ 5^ 4^ 1^ 0^] +\n",
       " 2.632815975575211e-07 [13^ 11^ 10^ 8^ 7^ 6^ 5^ 4^ 3^ 0^] +\n",
       " -7.97463826706471e-05 [13^ 11^ 10^ 9^ 7^ 5^ 3^ 2^ 1^ 0^] +\n",
       " 3.3840914950772096e-05 [13^ 11^ 10^ 9^ 7^ 6^ 4^ 2^ 1^ 0^] +\n",
       " 0.0001528990102550579 [13^ 11^ 10^ 9^ 7^ 6^ 4^ 3^ 2^ 0^] +\n",
       " 3.5736478060141674e-06 [13^ 11^ 10^ 9^ 7^ 6^ 4^ 3^ 2^ 1^] +\n",
       " -0.0012176641624791265 [13^ 11^ 10^ 9^ 7^ 6^ 5^ 4^ 2^ 0^] +\n",
       " -3.016056941578564e-05 [13^ 11^ 10^ 9^ 7^ 6^ 5^ 4^ 2^ 1^] +\n",
       " -2.4722330847453735e-08 [13^ 11^ 10^ 9^ 7^ 6^ 5^ 4^ 3^ 2^] +\n",
       " -2.4020955717160062e-06 [13^ 11^ 10^ 9^ 8^ 5^ 3^ 2^ 1^ 0^] +\n",
       " 6.562612697802893e-07 [13^ 11^ 10^ 9^ 8^ 6^ 4^ 2^ 1^ 0^] +\n",
       " 3.573648233624319e-06 [13^ 11^ 10^ 9^ 8^ 6^ 4^ 3^ 2^ 0^] +\n",
       " 1.1943473535514016e-06 [13^ 11^ 10^ 9^ 8^ 6^ 4^ 3^ 2^ 1^] +\n",
       " -2.9432826304468e-05 [13^ 11^ 10^ 9^ 8^ 6^ 5^ 4^ 2^ 0^] +\n",
       " -9.905178205051887e-06 [13^ 11^ 10^ 9^ 8^ 6^ 5^ 4^ 2^ 1^] +\n",
       " -0.2842633308644567 [13^ 12^ 9^ 8^ 7^ 4^ 3^ 2^ 1^ 0^] +\n",
       " -0.02439544557746886 [13^ 12^ 9^ 8^ 7^ 5^ 4^ 2^ 1^ 0^] +\n",
       " 0.001383686850905151 [13^ 12^ 9^ 8^ 7^ 5^ 4^ 3^ 2^ 0^] +\n",
       " 9.760416387685709e-06 [13^ 12^ 9^ 8^ 7^ 5^ 4^ 3^ 2^ 1^] +\n",
       " 0.036832612201316964 [13^ 12^ 9^ 8^ 7^ 6^ 3^ 2^ 1^ 0^] +\n",
       " -0.004434732853873245 [13^ 12^ 9^ 8^ 7^ 6^ 5^ 2^ 1^ 0^] +\n",
       " 0.00021559734034422534 [13^ 12^ 9^ 8^ 7^ 6^ 5^ 3^ 2^ 0^] +\n",
       " 9.17402260425611e-07 [13^ 12^ 9^ 8^ 7^ 6^ 5^ 3^ 2^ 1^] +\n",
       " -0.0006986689712690084 [13^ 12^ 10^ 8^ 7^ 5^ 4^ 3^ 1^ 0^] +\n",
       " -3.698457677819482e-05 [13^ 12^ 10^ 8^ 7^ 6^ 5^ 3^ 1^ 0^] +\n",
       " -0.0001317652825660286 [13^ 12^ 10^ 9^ 7^ 4^ 3^ 2^ 1^ 0^] +\n",
       " 0.0025596813637087795 [13^ 12^ 10^ 9^ 7^ 5^ 4^ 2^ 1^ 0^] +\n",
       " -0.0009362524388539137 [13^ 12^ 10^ 9^ 7^ 5^ 4^ 3^ 2^ 0^] +\n",
       " -2.3133020382525576e-05 [13^ 12^ 10^ 9^ 7^ 5^ 4^ 3^ 2^ 1^] +\n",
       " 9.410654773662344e-06 [13^ 12^ 10^ 9^ 7^ 6^ 3^ 2^ 1^ 0^] +\n",
       " 0.000215591344586514 [13^ 12^ 10^ 9^ 7^ 6^ 5^ 2^ 1^ 0^] +\n",
       " -6.0354908701683844e-05 [13^ 12^ 10^ 9^ 7^ 6^ 5^ 3^ 2^ 0^] +\n",
       " -1.6773270248164775e-06 [13^ 12^ 10^ 9^ 7^ 6^ 5^ 3^ 2^ 1^] +\n",
       " 3.4181892459503926e-07 [13^ 12^ 10^ 9^ 8^ 4^ 3^ 2^ 1^ 0^] +\n",
       " 1.7773462331880964e-05 [13^ 12^ 10^ 9^ 8^ 5^ 4^ 2^ 1^ 0^] +\n",
       " -2.255763643315331e-05 [13^ 12^ 10^ 9^ 8^ 5^ 4^ 3^ 2^ 0^] +\n",
       " -7.620132373567487e-06 [13^ 12^ 10^ 9^ 8^ 5^ 4^ 3^ 2^ 1^] +\n",
       " -1.620078822844107e-07 [13^ 12^ 10^ 9^ 8^ 6^ 3^ 2^ 1^ 0^] +\n",
       " 9.180788755304035e-07 [13^ 12^ 10^ 9^ 8^ 6^ 5^ 2^ 1^ 0^] +\n",
       " -1.6768492309179335e-06 [13^ 12^ 10^ 9^ 8^ 6^ 5^ 3^ 2^ 0^] +\n",
       " -6.398419115766085e-07 [13^ 12^ 10^ 9^ 8^ 6^ 5^ 3^ 2^ 1^] +\n",
       " -0.0009065151152543813 [13^ 12^ 11^ 8^ 7^ 6^ 4^ 3^ 1^ 0^] +\n",
       " -6.258866176840828e-05 [13^ 12^ 11^ 8^ 7^ 6^ 5^ 4^ 1^ 0^] +\n",
       " -4.673580527508014e-06 [13^ 12^ 11^ 8^ 7^ 6^ 5^ 4^ 3^ 0^] +\n",
       " -5.335263287340311e-08 [13^ 12^ 11^ 8^ 7^ 6^ 5^ 4^ 3^ 1^] +\n",
       " 0.001176097375311323 [13^ 12^ 11^ 9^ 7^ 5^ 3^ 2^ 1^ 0^] +\n",
       " -0.00040930877874700643 [13^ 12^ 11^ 9^ 7^ 6^ 4^ 2^ 1^ 0^] +\n",
       " -0.00121766404593872 [13^ 12^ 11^ 9^ 7^ 6^ 4^ 3^ 2^ 0^] +\n",
       " -2.9429994246700146e-05 [13^ 12^ 11^ 9^ 7^ 6^ 4^ 3^ 2^ 1^] +\n",
       " -8.615487932254154e-05 [13^ 12^ 11^ 9^ 7^ 6^ 5^ 4^ 2^ 0^] +\n",
       " -1.843698066983763e-06 [13^ 12^ 11^ 9^ 7^ 6^ 5^ 4^ 2^ 1^] +\n",
       " 7.277384990078995e-08 [13^ 12^ 11^ 9^ 7^ 6^ 5^ 4^ 3^ 2^] +\n",
       " 8.012664138633547e-06 [13^ 12^ 11^ 9^ 8^ 5^ 3^ 2^ 1^ 0^] +\n",
       " -3.083471236406671e-06 [13^ 12^ 11^ 9^ 8^ 6^ 4^ 2^ 1^ 0^] +\n",
       " -3.015774253247506e-05 [13^ 12^ 11^ 9^ 8^ 6^ 4^ 3^ 2^ 0^] +\n",
       " -9.94281797911445e-06 [13^ 12^ 11^ 9^ 8^ 6^ 4^ 3^ 2^ 1^] +\n",
       " -1.844354503010011e-06 [13^ 12^ 11^ 9^ 8^ 6^ 5^ 4^ 2^ 0^] +\n",
       " -6.399198563559024e-07 [13^ 12^ 11^ 9^ 8^ 6^ 5^ 4^ 2^ 1^] +\n",
       " 2.5778803894807144e-07 [13^ 12^ 11^ 10^ 7^ 6^ 4^ 3^ 1^ 0^] +\n",
       " -4.623970290384136e-06 [13^ 12^ 11^ 10^ 7^ 6^ 5^ 4^ 1^ 0^] +\n",
       " -2.4923205043646033e-06 [13^ 12^ 11^ 10^ 7^ 6^ 5^ 4^ 3^ 0^] +\n",
       " -6.471319189821105e-08 [13^ 12^ 11^ 10^ 8^ 6^ 5^ 4^ 1^ 0^] +\n",
       " 5.65447919381928e-07 [13^ 12^ 11^ 10^ 9^ 5^ 3^ 2^ 1^ 0^] +\n",
       " -7.273502317249667e-07 [13^ 12^ 11^ 10^ 9^ 6^ 4^ 2^ 1^ 0^] +\n",
       " -2.4722325322600514e-08 [13^ 12^ 11^ 10^ 9^ 6^ 4^ 3^ 2^ 0^] +\n",
       " 7.179979486435161e-08 [13^ 12^ 11^ 10^ 9^ 6^ 5^ 4^ 2^ 0^],\n",
       " array([0., 0., 0., ..., 0., 0., 0.]),\n",
       " -0.009493213146924973 [11^ 10^ 9^ 8^ 7^ 4^ 3^ 2^ 1^ 0^] +\n",
       " 0.06567918509244919 [11^ 10^ 9^ 8^ 7^ 5^ 4^ 2^ 1^ 0^] +\n",
       " -0.0003949485835619271 [11^ 10^ 9^ 8^ 7^ 5^ 4^ 3^ 2^ 0^] +\n",
       " -3.17877152156143e-06 [11^ 10^ 9^ 8^ 7^ 5^ 4^ 3^ 2^ 1^] +\n",
       " -0.04649311676621437 [11^ 10^ 9^ 8^ 7^ 6^ 3^ 2^ 1^ 0^] +\n",
       " -0.28426334261894226 [11^ 10^ 9^ 8^ 7^ 6^ 5^ 2^ 1^ 0^] +\n",
       " -0.00013171404134482145 [11^ 10^ 9^ 8^ 7^ 6^ 5^ 3^ 2^ 0^] +\n",
       " -5.709734978154302e-07 [11^ 10^ 9^ 8^ 7^ 6^ 5^ 3^ 2^ 1^] +\n",
       " 0.0021016981918364763 [12^ 10^ 9^ 8^ 7^ 5^ 3^ 2^ 1^ 0^] +\n",
       " 0.28814443945884705 [12^ 10^ 9^ 8^ 7^ 6^ 4^ 2^ 1^ 0^] +\n",
       " -7.980114605743438e-05 [12^ 10^ 9^ 8^ 7^ 6^ 4^ 3^ 2^ 0^] +\n",
       " -1.4722169225933612e-06 [12^ 10^ 9^ 8^ 7^ 6^ 4^ 3^ 2^ 1^] +\n",
       " 0.0011760187335312366 [12^ 10^ 9^ 8^ 7^ 6^ 5^ 4^ 2^ 0^] +\n",
       " 8.018119842745364e-06 [12^ 10^ 9^ 8^ 7^ 6^ 5^ 4^ 2^ 1^] +\n",
       " 5.660946840180259e-07 [12^ 10^ 9^ 8^ 7^ 6^ 5^ 4^ 3^ 2^] +\n",
       " 0.06567918509244919 [12^ 11^ 9^ 8^ 7^ 4^ 3^ 2^ 1^ 0^] +\n",
       " 0.003893336048349738 [12^ 11^ 9^ 8^ 7^ 5^ 4^ 2^ 1^ 0^] +\n",
       " -0.0003368902252987027 [12^ 11^ 9^ 8^ 7^ 5^ 4^ 3^ 2^ 0^] +\n",
       " -1.7290892628807342e-06 [12^ 11^ 9^ 8^ 7^ 5^ 4^ 3^ 2^ 1^] +\n",
       " 0.5724077820777893 [12^ 11^ 9^ 8^ 7^ 6^ 3^ 2^ 1^ 0^] +\n",
       " -0.02439543791115284 [12^ 11^ 9^ 8^ 7^ 6^ 5^ 2^ 1^ 0^] +\n",
       " 0.002559676067903638 [12^ 11^ 9^ 8^ 7^ 6^ 5^ 3^ 2^ 0^] +\n",
       " 1.7713935449137352e-05 [12^ 11^ 9^ 8^ 7^ 6^ 5^ 3^ 2^ 1^] +\n",
       " 9.771715122042224e-05 [12^ 11^ 10^ 8^ 7^ 5^ 4^ 3^ 1^ 0^] +\n",
       " -0.0006987275555729866 [12^ 11^ 10^ 8^ 7^ 6^ 5^ 3^ 1^ 0^] +\n",
       " -0.0003949485835619271 [12^ 11^ 10^ 9^ 7^ 4^ 3^ 2^ 1^ 0^] +\n",
       " -0.0003368902252987027 [12^ 11^ 10^ 9^ 7^ 5^ 4^ 2^ 1^ 0^] +\n",
       " 0.00013633693743031472 [12^ 11^ 10^ 9^ 7^ 5^ 4^ 3^ 2^ 0^] +\n",
       " 3.3316327971988358e-06 [12^ 11^ 10^ 9^ 7^ 5^ 4^ 3^ 2^ 1^] +\n",
       " 5.191287345951423e-05 [12^ 11^ 10^ 9^ 7^ 6^ 3^ 2^ 1^ 0^] +\n",
       " 0.0013836571015417576 [12^ 11^ 10^ 9^ 7^ 6^ 5^ 2^ 1^ 0^] +\n",
       " -0.0009361669071950018 [12^ 11^ 10^ 9^ 7^ 6^ 5^ 3^ 2^ 0^] +\n",
       " -2.2582325982511975e-05 [12^ 11^ 10^ 9^ 7^ 6^ 5^ 3^ 2^ 1^] +\n",
       " -3.1787717489351053e-06 [12^ 11^ 10^ 9^ 8^ 4^ 3^ 2^ 1^ 0^] +\n",
       " -1.7290982441409142e-06 [12^ 11^ 10^ 9^ 8^ 5^ 4^ 2^ 1^ 0^] +\n",
       " 3.3316177905362565e-06 [12^ 11^ 10^ 9^ 8^ 5^ 4^ 3^ 2^ 0^] +\n",
       " 1.1244917459407588e-06 [12^ 11^ 10^ 9^ 8^ 5^ 4^ 3^ 2^ 1^] +\n",
       " -9.012537134367449e-07 [12^ 11^ 10^ 9^ 8^ 6^ 3^ 2^ 1^ 0^] +\n",
       " 9.69583197729662e-06 [12^ 11^ 10^ 9^ 8^ 6^ 5^ 2^ 1^ 0^] +\n",
       " -2.314842822670471e-05 [12^ 11^ 10^ 9^ 8^ 6^ 5^ 3^ 2^ 0^] +\n",
       " -7.661062227271032e-06 [12^ 11^ 10^ 9^ 8^ 6^ 5^ 3^ 2^ 1^] +\n",
       " -0.04649311676621437 [13^ 10^ 9^ 8^ 7^ 4^ 3^ 2^ 1^ 0^] +\n",
       " 0.5724077820777893 [13^ 10^ 9^ 8^ 7^ 5^ 4^ 2^ 1^ 0^] +\n",
       " 5.191287709749304e-05 [13^ 10^ 9^ 8^ 7^ 5^ 4^ 3^ 2^ 0^] +\n",
       " -9.01237342532113e-07 [13^ 10^ 9^ 8^ 7^ 5^ 4^ 3^ 2^ 1^] +\n",
       " 0.004085589665919542 [13^ 10^ 9^ 8^ 7^ 6^ 3^ 2^ 1^ 0^] +\n",
       " 0.03683260828256607 [13^ 10^ 9^ 8^ 7^ 6^ 5^ 2^ 1^ 0^] +\n",
       " 9.379430593980942e-06 [13^ 10^ 9^ 8^ 7^ 6^ 5^ 3^ 2^ 0^] +\n",
       " -4.4478454697127745e-08 [13^ 10^ 9^ 8^ 7^ 6^ 5^ 3^ 2^ 1^] +\n",
       " 0.28814443945884705 [13^ 11^ 9^ 8^ 7^ 5^ 3^ 2^ 1^ 0^] +\n",
       " 0.002116501796990633 [13^ 11^ 9^ 8^ 7^ 6^ 4^ 2^ 1^ 0^] +\n",
       " 3.386785101611167e-05 [13^ 11^ 9^ 8^ 7^ 6^ 4^ 3^ 2^ 0^] +\n",
       " 6.489534030151844e-07 [13^ 11^ 9^ 8^ 7^ 6^ 4^ 3^ 2^ 1^] +\n",
       " -0.0004092631861567497 [13^ 11^ 9^ 8^ 7^ 6^ 5^ 4^ 2^ 0^] +\n",
       " -3.094976818829309e-06 [13^ 11^ 9^ 8^ 7^ 6^ 5^ 4^ 2^ 1^] +\n",
       " -7.281701073225122e-07 [13^ 11^ 9^ 8^ 7^ 6^ 5^ 4^ 3^ 2^] +\n",
       " 0.00012061235611326993 [13^ 11^ 10^ 8^ 7^ 6^ 4^ 3^ 1^ 0^] +\n",
       " -0.000906551256775856 [13^ 11^ 10^ 8^ 7^ 6^ 5^ 4^ 1^ 0^] +\n",
       " 2.7986229156340414e-07 [13^ 11^ 10^ 8^ 7^ 6^ 5^ 4^ 3^ 0^] +\n",
       " -7.980116060934961e-05 [13^ 11^ 10^ 9^ 7^ 5^ 3^ 2^ 1^ 0^] +\n",
       " 3.386785465409048e-05 [13^ 11^ 10^ 9^ 7^ 6^ 4^ 2^ 1^ 0^] +\n",
       " 0.00015288042777683586 [13^ 11^ 10^ 9^ 7^ 6^ 4^ 3^ 2^ 0^] +\n",
       " 3.545999106790987e-06 [13^ 11^ 10^ 9^ 7^ 6^ 4^ 3^ 2^ 1^] +\n",
       " -0.0012176032178103924 [13^ 11^ 10^ 9^ 7^ 6^ 5^ 4^ 2^ 0^] +\n",
       " -3.0158453228068538e-05 [13^ 11^ 10^ 9^ 7^ 6^ 5^ 4^ 2^ 1^] +\n",
       " -1.0347052992187855e-08 [13^ 11^ 10^ 9^ 7^ 6^ 5^ 4^ 3^ 2^] +\n",
       " -1.4722177184012253e-06 [13^ 11^ 10^ 9^ 8^ 5^ 3^ 2^ 1^ 0^] +\n",
       " 6.489416932708991e-07 [13^ 11^ 10^ 9^ 8^ 6^ 4^ 2^ 1^ 0^] +\n",
       " 3.5460066101222765e-06 [13^ 11^ 10^ 9^ 8^ 6^ 4^ 3^ 2^ 0^] +\n",
       " 1.185913902190805e-06 [13^ 11^ 10^ 9^ 8^ 6^ 4^ 3^ 2^ 1^] +\n",
       " -2.9430282665998675e-05 [13^ 11^ 10^ 9^ 8^ 6^ 5^ 4^ 2^ 0^] +\n",
       " -9.979081369237974e-06 [13^ 11^ 10^ 9^ 8^ 6^ 5^ 4^ 2^ 1^] +\n",
       " -0.28426334261894226 [13^ 12^ 9^ 8^ 7^ 4^ 3^ 2^ 1^ 0^] +\n",
       " -0.02439543791115284 [13^ 12^ 9^ 8^ 7^ 5^ 4^ 2^ 1^ 0^] +\n",
       " 0.0013836572179570794 [13^ 12^ 9^ 8^ 7^ 5^ 4^ 3^ 2^ 0^] +\n",
       " 9.6958210633602e-06 [13^ 12^ 9^ 8^ 7^ 5^ 4^ 3^ 2^ 1^] +\n",
       " 0.03683260828256607 [13^ 12^ 9^ 8^ 7^ 6^ 3^ 2^ 1^ 0^] +\n",
       " -0.0044347383081912994 [13^ 12^ 9^ 8^ 7^ 6^ 5^ 2^ 1^ 0^] +\n",
       " 0.0002155452675651759 [13^ 12^ 9^ 8^ 7^ 6^ 5^ 3^ 2^ 0^] +\n",
       " 8.937607844927697e-07 [13^ 12^ 9^ 8^ 7^ 6^ 5^ 3^ 2^ 1^] +\n",
       " -0.0006987274391576648 [13^ 12^ 10^ 8^ 7^ 5^ 4^ 3^ 1^ 0^] +\n",
       " -3.701020614244044e-05 [13^ 12^ 10^ 8^ 7^ 6^ 5^ 3^ 1^ 0^] +\n",
       " -0.00013171402679290622 [13^ 12^ 10^ 9^ 7^ 4^ 3^ 2^ 1^ 0^] +\n",
       " 0.002559676067903638 [13^ 12^ 10^ 9^ 7^ 5^ 4^ 2^ 1^ 0^] +\n",
       " -0.0009361668489873409 [13^ 12^ 10^ 9^ 7^ 5^ 4^ 3^ 2^ 0^] +\n",
       " -2.3148430045694113e-05 [13^ 12^ 10^ 9^ 7^ 5^ 4^ 3^ 2^ 1^] +\n",
       " 9.379430593980942e-06 [13^ 12^ 10^ 9^ 7^ 6^ 3^ 2^ 1^ 0^] +\n",
       " 0.0002155452675651759 [13^ 12^ 10^ 9^ 7^ 6^ 5^ 2^ 1^ 0^] +\n",
       " -6.031888915458694e-05 [13^ 12^ 10^ 9^ 7^ 6^ 5^ 3^ 2^ 0^] +\n",
       " -1.6688198911651853e-06 [13^ 12^ 10^ 9^ 7^ 6^ 5^ 3^ 2^ 1^] +\n",
       " -5.709752599614148e-07 [13^ 12^ 10^ 9^ 8^ 4^ 3^ 2^ 1^ 0^] +\n",
       " 1.7713946363073774e-05 [13^ 12^ 10^ 9^ 8^ 5^ 4^ 2^ 1^ 0^] +\n",
       " -2.2582336896448396e-05 [13^ 12^ 10^ 9^ 8^ 5^ 4^ 3^ 2^ 0^] +\n",
       " -7.661062227271032e-06 [13^ 12^ 10^ 9^ 8^ 5^ 4^ 3^ 2^ 1^] +\n",
       " -4.451000634730917e-08 [13^ 12^ 10^ 9^ 8^ 6^ 3^ 2^ 1^ 0^] +\n",
       " 8.93775393251417e-07 [13^ 12^ 10^ 9^ 8^ 6^ 5^ 2^ 1^ 0^] +\n",
       " -1.668821596467751e-06 [13^ 12^ 10^ 9^ 8^ 6^ 5^ 3^ 2^ 0^] +\n",
       " -5.610873472505773e-07 [13^ 12^ 10^ 9^ 8^ 6^ 5^ 3^ 2^ 1^] +\n",
       " -0.000906551256775856 [13^ 12^ 11^ 8^ 7^ 6^ 4^ 3^ 1^ 0^] +\n",
       " -6.271438178373501e-05 [13^ 12^ 11^ 8^ 7^ 6^ 5^ 4^ 1^ 0^] +\n",
       " -4.672154773288639e-06 [13^ 12^ 11^ 8^ 7^ 6^ 5^ 4^ 3^ 0^] +\n",
       " 0.0011760186171159148 [13^ 12^ 11^ 9^ 7^ 5^ 3^ 2^ 1^ 0^] +\n",
       " -0.0004092631861567497 [13^ 12^ 11^ 9^ 7^ 6^ 4^ 2^ 1^ 0^] +\n",
       " -0.0012176031013950706 [13^ 12^ 11^ 9^ 7^ 6^ 4^ 3^ 2^ 0^] +\n",
       " -2.943027539004106e-05 [13^ 12^ 11^ 9^ 7^ 6^ 4^ 3^ 2^ 1^] +\n",
       " -8.61088847159408e-05 [13^ 12^ 11^ 9^ 7^ 6^ 5^ 4^ 2^ 0^] +\n",
       " -1.9015799352928298e-06 [13^ 12^ 11^ 9^ 7^ 6^ 5^ 4^ 2^ 1^] +\n",
       " 1.349930869309901e-07 [13^ 12^ 11^ 9^ 7^ 6^ 5^ 4^ 3^ 2^] +\n",
       " 8.018129847187083e-06 [13^ 12^ 11^ 9^ 8^ 5^ 3^ 2^ 1^ 0^] +\n",
       " -3.094976818829309e-06 [13^ 12^ 11^ 9^ 8^ 6^ 4^ 2^ 1^ 0^] +\n",
       " -3.015844959008973e-05 [13^ 12^ 11^ 9^ 8^ 6^ 4^ 3^ 2^ 0^] +\n",
       " -9.979081369237974e-06 [13^ 12^ 11^ 9^ 8^ 6^ 4^ 3^ 2^ 1^] +\n",
       " -1.9015948282685713e-06 [13^ 12^ 11^ 9^ 8^ 6^ 5^ 4^ 2^ 0^] +\n",
       " -6.491902126981586e-07 [13^ 12^ 11^ 9^ 8^ 6^ 5^ 4^ 2^ 1^] +\n",
       " 3.744628074286993e-08 [13^ 12^ 11^ 9^ 8^ 6^ 5^ 4^ 3^ 2^] +\n",
       " 2.798646789869963e-07 [13^ 12^ 11^ 10^ 7^ 6^ 4^ 3^ 1^ 0^] +\n",
       " -4.6721538637939375e-06 [13^ 12^ 11^ 10^ 7^ 6^ 5^ 4^ 1^ 0^] +\n",
       " -2.4918251710914774e-06 [13^ 12^ 11^ 10^ 7^ 6^ 5^ 4^ 3^ 0^] +\n",
       " -7.071428598237617e-08 [13^ 12^ 11^ 10^ 7^ 6^ 5^ 4^ 3^ 1^] +\n",
       " -7.073125374290612e-08 [13^ 12^ 11^ 10^ 8^ 6^ 5^ 4^ 3^ 0^] +\n",
       " -2.3717090513741823e-08 [13^ 12^ 11^ 10^ 8^ 6^ 5^ 4^ 3^ 1^] +\n",
       " 5.660998567691422e-07 [13^ 12^ 11^ 10^ 9^ 5^ 3^ 2^ 1^ 0^] +\n",
       " -7.28174256892089e-07 [13^ 12^ 11^ 10^ 9^ 6^ 4^ 2^ 1^ 0^] +\n",
       " -1.0341513423384185e-08 [13^ 12^ 11^ 10^ 9^ 6^ 4^ 3^ 2^ 0^] +\n",
       " 1.350338294514586e-07 [13^ 12^ 11^ 10^ 9^ 6^ 5^ 4^ 2^ 0^] +\n",
       " 3.7447033918169836e-08 [13^ 12^ 11^ 10^ 9^ 6^ 5^ 4^ 2^ 1^] +\n",
       " -3.334750076078308e-08 [13^ 12^ 11^ 10^ 9^ 6^ 5^ 4^ 3^ 2^])"
      ]
     },
     "execution_count": 94,
     "metadata": {},
     "output_type": "execute_result"
    }
   ],
   "source": [
    "res, vect_op_ft = natural_basis_rotation(basis, C, vect)\n",
    "res2, vect_op_ft2 = natural_basis_rotation(ext_basis, C.T, res)\n",
    "\n",
    "vect_op = np.sum([vect[i] * basis.base[i] for i in range(len(vect))])\n",
    "\n",
    "of.transforms.normal_ordered(vect_op_ft2), res2, of.transforms.normal_ordered(vect_op)"
   ]
  },
  {
   "cell_type": "markdown",
   "metadata": {},
   "source": [
    "Funciones auxiliares"
   ]
  },
  {
   "cell_type": "code",
   "execution_count": null,
   "metadata": {},
   "outputs": [
    {
     "data": {
      "text/plain": [
       "(set(), set())"
      ]
     },
     "execution_count": 99,
     "metadata": {},
     "output_type": "execute_result"
    }
   ],
   "source": [
    "def unique_ele(op):\n",
    "    terms = list(op.terms.items())\n",
    "    act_idx = lambda tt: [i[0] for i in tt[0]]\n",
    "    terms_set = []\n",
    "    for term in terms:\n",
    "        if np.abs(term[1]) > 1e-6:\n",
    "            terms_set.append(act_idx(term))\n",
    "    return set(terms_set[0]).intersection(*terms_set[1:])\n",
    "\n",
    "unique_ele(op_pro), unique_ele(op_fund)"
   ]
  },
  {
   "cell_type": "code",
   "execution_count": null,
   "metadata": {},
   "outputs": [
    {
     "data": {
      "text/plain": [
       "array([0.97351211, 0.92118047, 0.31511585, 0.31511585, 0.79019157,\n",
       "       0.79019157, 1.        , 0.97351211, 0.92118047, 1.        ,\n",
       "       1.        , 1.        ])"
      ]
     },
     "execution_count": 50,
     "metadata": {},
     "output_type": "execute_result"
    }
   ],
   "source": [
    "np.linalg.eigvals(rho_1)"
   ]
  },
  {
   "cell_type": "code",
   "execution_count": null,
   "metadata": {},
   "outputs": [
    {
     "name": "stderr",
     "output_type": "stream",
     "text": [
      "100%|██████████| 12/12 [01:00<00:00,  5.07s/it]\n"
     ]
    }
   ],
   "source": [
    "# Verifiquemos que los orbitales son ortogonales\n",
    "op_arr = np.zeros((basis.d,basis.d),dtype=object)\n",
    "sp_basis = FixedBasis(basis.d, 1)\n",
    "for i in tqdm(range(basis.d)):\n",
    "    for j in range(basis.d):\n",
    "        oi = np.real(of.get_sparse_operator(targ_sp[i], n_qubits=basis.d))\n",
    "        oj = np.real(of.get_sparse_operator(targ_sp[j], n_qubits=basis.d))\n",
    "        # Sin daguear y dagueado\n",
    "        assert len((oi * oj + oj * oi).data) == 0\n",
    "        assert len((oi.T * oj.T + oj.T * oi.T).data) == 0\n",
    "        # Términos cruzados\n",
    "        op_arr[i,j] = oi * oj.T + oj.T * oi\n",
    "        sh = op_arr[i,j].shape[0]\n",
    "        if i != j:\n",
    "            assert np.allclose(np.zeros((sh,sh)),op_arr[i,j].todense())\n",
    "        else:\n",
    "            assert np.allclose(np.eye(sh),op_arr[i,j].todense())"
   ]
  },
  {
   "cell_type": "code",
   "execution_count": null,
   "metadata": {},
   "outputs": [
    {
     "name": "stdout",
     "output_type": "stream",
     "text": [
      "5 -0.27936976320734497 1.0 [0^ 1^ 2^ 3^ 4^ 7^ 8^ 9^ 12^ 13^]\n",
      "13.0\n",
      "\n",
      "25 0.28996316812175205 1.0 [0^ 1^ 2^ 3^ 5^ 7^ 8^ 9^ 11^ 13^]\n",
      "12.0\n",
      "\n",
      "45 0.5718530568911167 1.0 [0^ 1^ 2^ 3^ 6^ 7^ 8^ 9^ 11^ 12^]\n",
      "3.0\n",
      "\n",
      "65 0.572154480816062 1.0 [0^ 1^ 2^ 4^ 5^ 7^ 8^ 9^ 10^ 13^]\n",
      "3.0\n",
      "\n",
      "85 0.2897326805359033 1.0 [0^ 1^ 2^ 4^ 6^ 7^ 8^ 9^ 10^ 12^]\n",
      "12.0\n",
      "\n",
      "105 -0.27954194550717076 1.0 [0^ 1^ 2^ 5^ 6^ 7^ 8^ 9^ 10^ 11^]\n",
      "13.0\n",
      "\n",
      "[0.         0.         0.         0.         0.         0.\n",
      " 0.         0.         0.         0.         0.         0.\n",
      " 0.         0.         0.         0.         0.         0.\n",
      " 0.         0.         0.         0.         0.         0.\n",
      " 0.         0.         0.         0.         0.         0.\n",
      " 0.         0.         0.         0.         0.         0.08333333\n",
      " 0.08333333 0.08333333 0.08333333 0.08333333 0.08333333 0.08333333\n",
      " 0.08333333 0.08333333 0.08333333 0.08333333 0.08333333 0.33333333\n",
      " 0.33333333 0.33333333 0.33333333 0.33333333 0.33333333 0.5\n",
      " 0.5        0.5        0.5        0.5        0.5        0.5\n",
      " 0.5        0.5        0.5        0.5        0.5        0.5\n",
      " 0.5        0.5        0.5        0.5        0.5        0.5\n",
      " 0.5        0.5        0.5        0.5        0.5        0.5\n",
      " 0.5        0.5        0.5        0.5        0.5        0.5\n",
      " 0.5        0.5        0.5        0.5        0.5        0.5\n",
      " 0.5        0.5        0.5        0.5        0.5        0.5\n",
      " 0.5        0.5        0.5        0.5        0.5        0.75\n",
      " 0.75       0.75       0.75       1.         1.         1.\n",
      " 1.         1.         1.         1.         1.         1.\n",
      " 1.         1.         1.         1.         1.         1.        ]\n"
     ]
    }
   ],
   "source": [
    "est = 0\n",
    "app_r = lambda x: np.round(1/(x**2), 0)\n",
    "for i, ii in enumerate(opt.x):\n",
    "    if np.abs(ii) > 0.1:\n",
    "        print(i, ii, basis.base[i])\n",
    "        if np.abs(ii) > 0.2:\n",
    "            print(app_r(ii))\n",
    "            est += 1/np.sqrt(app_r(ii)) * basis.canonicals[i]\n",
    "            print('')\n",
    "\n",
    "#(1/np.sqrt(3), 1/np.sqrt(12))\n",
    "#print(est)\n",
    "est = 1/np.sqrt(12) * (-basis.canonicals[5]+basis.canonicals[25]+basis.canonicals[85]-basis.canonicals[105])+1/np.sqrt(3)*(basis.canonicals[45]+basis.canonicals[65])\n",
    "\n",
    "print(r_eig(rho_m(est, rho_2_arrays)))\n"
   ]
  },
  {
   "cell_type": "code",
   "execution_count": null,
   "metadata": {},
   "outputs": [
    {
     "data": {
      "text/plain": [
       "array([6.39649654e-18, 2.27759896e-17, 2.27759896e-17, 2.97340303e-17,\n",
       "       1.05847838e-08, 1.05847839e-08, 8.12469946e-02, 8.12469946e-02,\n",
       "       8.12469946e-02, 8.12469946e-02, 8.12469946e-02, 8.12469946e-02,\n",
       "       8.26670825e-02, 8.26670825e-02, 8.26670825e-02, 8.26670825e-02,\n",
       "       8.26670825e-02, 8.26670825e-02, 3.36085923e-01, 3.36085923e-01,\n",
       "       3.36085923e-01, 3.36085923e-01, 3.36085923e-01, 3.36085923e-01,\n",
       "       7.48001237e-01, 7.48001237e-01, 7.51998753e-01, 7.51998753e-01])"
      ]
     },
     "execution_count": 259,
     "metadata": {},
     "output_type": "execute_result"
    }
   ],
   "source": [
    "r_eig(rho_m(vect, rho_2_arrays))"
   ]
  },
  {
   "cell_type": "markdown",
   "metadata": {},
   "source": [
    "#### Testing"
   ]
  },
  {
   "cell_type": "code",
   "execution_count": null,
   "metadata": {},
   "outputs": [
    {
     "data": {
      "text/plain": [
       "array([-4.64692802e-01,  2.77029463e-13,  6.04225310e-13, -6.02451636e-13,\n",
       "       -2.56718779e-13,  1.43759419e-01, -2.76373045e-13,  4.64692802e-01,\n",
       "        6.78313552e-13,  6.75558510e-13, -1.43759419e-01,  2.56506937e-13,\n",
       "       -6.03653495e-13, -6.77704300e-13, -6.25591975e-14, -2.87518838e-01,\n",
       "       -6.29232018e-13, -5.60633058e-13,  6.01429896e-13, -6.75919400e-13,\n",
       "       -2.87518838e-01, -6.20739380e-14, -6.26983384e-13,  5.59008839e-13,\n",
       "        2.55745844e-13, -1.43759419e-01,  6.28758833e-13,  6.27003686e-13,\n",
       "        4.00074963e-01, -2.38304993e-13,  1.43759419e-01, -2.55921509e-13,\n",
       "        5.60076347e-13, -5.58040539e-13,  2.38229636e-13, -4.00074963e-01])"
      ]
     },
     "execution_count": 256,
     "metadata": {},
     "output_type": "execute_result"
    }
   ],
   "source": [
    "vect = [-4.646928018967011e-01,2.770294629368069e-13,6.042253100720720e-13,-6.024516357133285e-13,-2.567187786718633e-13,1.437594192304828e-01,-2.763730452330614e-13,4.646928018967681e-01,6.783135520862164e-13,6.755585098225312e-13,-1.437594192304206e-01,2.565069368880155e-13,-6.036534951757788e-13,-6.777043000828106e-13,-6.255919748617283e-14,-2.875188384604817e-01,-6.292320178844996e-13,-5.606330583371935e-13,6.014298958703158e-13,-6.759194003610720e-13,-2.875188384604817e-01,-6.207393804663961e-14,-6.269833844031960e-13,5.590088393571927e-13,2.557458444682729e-13,-1.437594192304207e-01,6.287588334290853e-13,6.270036860946324e-13,4.000749631766127e-01,-2.383049928519640e-13,1.437594192304827e-01,-2.559215089660516e-13,5.600763473792744e-13,-5.580405389843103e-13,2.382296361695720e-13,-4.000749631765536e-01]\n",
    "vect = np.array(vect)\n",
    "vect"
   ]
  },
  {
   "cell_type": "code",
   "execution_count": null,
   "metadata": {},
   "outputs": [
    {
     "data": {
      "text/plain": [
       "array([6.39649654e-18+0.00000000e+00j, 2.27759896e-17-1.60872919e-17j,\n",
       "       2.27759896e-17+1.60872919e-17j, 2.97340303e-17+0.00000000e+00j,\n",
       "       1.05847838e-08+0.00000000e+00j, 1.05847839e-08+0.00000000e+00j,\n",
       "       8.12469946e-02+0.00000000e+00j, 8.12469946e-02+0.00000000e+00j,\n",
       "       8.12469946e-02+0.00000000e+00j, 8.12469946e-02+0.00000000e+00j,\n",
       "       8.12469946e-02+0.00000000e+00j, 8.12469946e-02+0.00000000e+00j,\n",
       "       8.26670825e-02+0.00000000e+00j, 8.26670825e-02+0.00000000e+00j,\n",
       "       8.26670825e-02+0.00000000e+00j, 8.26670825e-02+0.00000000e+00j,\n",
       "       8.26670825e-02+0.00000000e+00j, 8.26670825e-02+0.00000000e+00j,\n",
       "       3.36085923e-01+0.00000000e+00j, 3.36085923e-01+0.00000000e+00j,\n",
       "       3.36085923e-01+0.00000000e+00j, 3.36085923e-01+0.00000000e+00j,\n",
       "       3.36085923e-01+0.00000000e+00j, 3.36085923e-01+0.00000000e+00j,\n",
       "       7.48001237e-01+0.00000000e+00j, 7.48001237e-01+0.00000000e+00j,\n",
       "       7.51998753e-01+0.00000000e+00j, 7.51998753e-01+0.00000000e+00j])"
      ]
     },
     "execution_count": 167,
     "metadata": {},
     "output_type": "execute_result"
    }
   ],
   "source": [
    "np.sort(np.linalg.eigvals(rho_m(vect, rho_2_arrays).todense()))"
   ]
  }
 ],
 "metadata": {
  "kernelspec": {
   "display_name": "base",
   "language": "python",
   "name": "python3"
  },
  "language_info": {
   "codemirror_mode": {
    "name": "ipython",
    "version": 3
   },
   "file_extension": ".py",
   "mimetype": "text/x-python",
   "name": "python",
   "nbconvert_exporter": "python",
   "pygments_lexer": "ipython3",
   "version": "3.11.11"
  }
 },
 "nbformat": 4,
 "nbformat_minor": 2
}
